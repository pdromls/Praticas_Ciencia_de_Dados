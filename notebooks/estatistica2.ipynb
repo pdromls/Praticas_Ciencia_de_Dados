{
 "cells": [
  {
   "cell_type": "code",
   "execution_count": null,
   "id": "733289b2",
   "metadata": {},
   "outputs": [],
   "source": [
    "# Distribuição T Student em Python (usada quando a amostra é pequena, menor que 30 e o desvio padrão populacional é desconhecido). \n",
    "# A formula de t é: t = (x̄ - μ) / (s / √n) sendo x̄ o valor que determinamos, μ a média populacional, s o desvio padrão amostral e n o tamanho da amostra.\n",
    "from scipy.stats import t"
   ]
  },
  {
   "cell_type": "code",
   "execution_count": null,
   "id": "e9d02ecb",
   "metadata": {},
   "outputs": [
    {
     "data": {
      "text/plain": [
       "np.float64(0.9139983540240443)"
      ]
     },
     "execution_count": 2,
     "metadata": {},
     "output_type": "execute_result"
    }
   ],
   "source": [
    "# Média de salário 75 por hora, Amostra com 9 funcionários, desvio padrão = 10\n",
    "# Qual a probabilidade de selecionar um funcionario e o salário ser menor que 80 por hora?\n",
    "t.cdf(1.5, 8) # Primeiro parâmetro e oriundo da tabela t student (valor t), segundo parâmetro é o grau de liberdade (n-1)"
   ]
  },
  {
   "cell_type": "code",
   "execution_count": 3,
   "id": "e18c857f",
   "metadata": {},
   "outputs": [
    {
     "data": {
      "text/plain": [
       "np.float64(0.08600164597595565)"
      ]
     },
     "execution_count": 3,
     "metadata": {},
     "output_type": "execute_result"
    }
   ],
   "source": [
    "# Qual a probabilidade de selecionar um funcionário e o salário ser maior que 80 por hora?\n",
    "# 1 - t.cdf(1.5, 8)\n",
    "# Ou\n",
    "t.sf(1.5, 8)"
   ]
  },
  {
   "cell_type": "code",
   "execution_count": 4,
   "id": "2f11d2db",
   "metadata": {},
   "outputs": [
    {
     "data": {
      "text/plain": [
       "np.float64(0.9999999999999999)"
      ]
     },
     "execution_count": 4,
     "metadata": {},
     "output_type": "execute_result"
    }
   ],
   "source": [
    "# Somatório entre dois valores t\n",
    "t.cdf(1.5, 8) + t.sf(1.5, 8)"
   ]
  },
  {
   "cell_type": "code",
   "execution_count": 5,
   "id": "3446a17e",
   "metadata": {},
   "outputs": [],
   "source": [
    "# Distribuição de Poisson em Python (usada para calcular a probabilidade de um evento ocorrer em um intervalo fixo de tempo ou espaço, quando esses eventos ocorrem com uma taxa média conhecida e independentemente do tempo desde o último evento).\n",
    "# Fórmula de Poisson: P(X=k) = (λ^k * e^-λ) / k! onde λ é a taxa média de ocorrência, k é o número de ocorrências, e é a base do logaritmo natural (aproximadamente 2.71828) e k! é o fatorial de k.\n",
    "from scipy.stats import poisson"
   ]
  },
  {
   "cell_type": "code",
   "execution_count": 6,
   "id": "2e9353ad",
   "metadata": {},
   "outputs": [
    {
     "data": {
      "text/plain": [
       "np.float64(0.18044704431548356)"
      ]
     },
     "execution_count": 6,
     "metadata": {},
     "output_type": "execute_result"
    }
   ],
   "source": [
    "# Média de acidentes de carro é 2 por dia\n",
    "# Qual a probabilidade de ocorrer 3 acidentes em um dia?\n",
    "poisson.pmf(3, 2)"
   ]
  },
  {
   "cell_type": "code",
   "execution_count": 7,
   "id": "9716a6aa",
   "metadata": {},
   "outputs": [
    {
     "data": {
      "text/plain": [
       "np.float64(0.857123460498547)"
      ]
     },
     "execution_count": 7,
     "metadata": {},
     "output_type": "execute_result"
    }
   ],
   "source": [
    "# Qual a probabilidade de ocorrerem 3 ou menos acidentes em um dia?\n",
    "poisson.cdf(3, 2)"
   ]
  },
  {
   "cell_type": "code",
   "execution_count": 8,
   "id": "b1b545e0",
   "metadata": {},
   "outputs": [
    {
     "data": {
      "text/plain": [
       "np.float64(0.14287653950145296)"
      ]
     },
     "execution_count": 8,
     "metadata": {},
     "output_type": "execute_result"
    }
   ],
   "source": [
    "# Qual a probabilidade de ocorrerem mais de 3 acidentes em um dia?\n",
    "poisson.sf(3, 2)\n",
    "# Ou\n",
    "# 1 - poisson.cdf(3, 2)"
   ]
  },
  {
   "cell_type": "code",
   "execution_count": 9,
   "id": "48eedc61",
   "metadata": {},
   "outputs": [
    {
     "data": {
      "text/plain": [
       "np.float64(1.0)"
      ]
     },
     "execution_count": 9,
     "metadata": {},
     "output_type": "execute_result"
    }
   ],
   "source": [
    "poisson.cdf(3, 2) + poisson.sf(3, 2)"
   ]
  },
  {
   "cell_type": "code",
   "execution_count": null,
   "id": "17bb0202",
   "metadata": {},
   "outputs": [],
   "source": [
    "# Distribuição Binomial em Python (usada para modelar o número de sucessos em uma sequência de n experimentos independentes, onde cada experimento tem apenas dois resultados possíveis: sucesso ou fracasso).\n",
    "# Fórmula da Binomial: P(X=k) = (n choose k) * p^k * (1-p)^(n-k) onde n é o número total de experimentos, k é o número de sucessos desejados, p é a probabilidade de sucesso em um único experimento, e (n choose k) é o coeficiente binomial que representa o número de maneiras de escolher k sucessos em n experimentos.\n",
    "from scipy.stats import binom"
   ]
  },
  {
   "cell_type": "code",
   "execution_count": null,
   "id": "a58b04fc",
   "metadata": {},
   "outputs": [
    {
     "data": {
      "text/plain": [
       "np.float64(0.3124999999999998)"
      ]
     },
     "execution_count": 12,
     "metadata": {},
     "output_type": "execute_result"
    }
   ],
   "source": [
    "# Jogar uma moeda 5 vezes, qual a probabilidade de sair cara 3 vezes?\n",
    "# eventos, experimentos, probabilidade de sucesso\n",
    "binom.pmf(3, 5, 0.5)"
   ]
  },
  {
   "cell_type": "code",
   "execution_count": null,
   "id": "cda09056",
   "metadata": {},
   "outputs": [
    {
     "data": {
      "text/plain": [
       "np.float64(0.31640625000000017)"
      ]
     },
     "execution_count": 16,
     "metadata": {},
     "output_type": "execute_result"
    }
   ],
   "source": [
    "# Passar por 4 sinais de quatro tempos, qual a probabilidade de pegar sinal verde?\n",
    "# nenhuma, 1, 2 3 ou 4 vezes\n",
    "binom.pmf(0, 4, 0.25)\n",
    "# binom.pmf(1, 4, 0.25)\n",
    "# binom.pmf(2, 4, 0.25)\n",
    "# binom.pmf(3, 4, 0.25)\n",
    "# binom.pmf(4, 4, 0.25)\n",
    "\n",
    "# Soma das probabilidades é igual a 1"
   ]
  },
  {
   "cell_type": "code",
   "execution_count": null,
   "id": "1f7e5be6",
   "metadata": {},
   "outputs": [
    {
     "data": {
      "text/plain": [
       "np.float64(1.0)"
      ]
     },
     "execution_count": 26,
     "metadata": {},
     "output_type": "execute_result"
    }
   ],
   "source": [
    "# Probabilidade acumulativa\n",
    "binom.cdf(4, 4, 0.25) # Probabilidade de pegar 0, 1, 2, 3 ou 4 sinais verdes, alterar o primeiro parâmetro para ver outras probabilidades acumulativas"
   ]
  },
  {
   "cell_type": "code",
   "execution_count": 18,
   "id": "a9e0f236",
   "metadata": {},
   "outputs": [
    {
     "data": {
      "text/plain": [
       "np.float64(0.0625)"
      ]
     },
     "execution_count": 18,
     "metadata": {},
     "output_type": "execute_result"
    }
   ],
   "source": [
    "# E se forem sinais de dois tempos?\n",
    "# binom.pmf(0, 4, 0.5)\n",
    "# binom.pmf(1, 4, 0.5)\n",
    "# binom.pmf(2, 4, 0.5)\n",
    "# binom.pmf(3, 4, 0.5)\n",
    "binom.pmf(4, 4, 0.5)"
   ]
  },
  {
   "cell_type": "code",
   "execution_count": null,
   "id": "fcc053b8",
   "metadata": {},
   "outputs": [
    {
     "name": "stdout",
     "output_type": "stream",
     "text": [
      "1.1471271514892587\n"
     ]
    }
   ],
   "source": [
    "# Concurso com 12 questões, cada questão com 4 alternativas, qual a probabilidade de acertar 7 questões chutando?\n",
    "binom.pmf(7, 12, 0.25)\n",
    "print(binom.pmf(7, 12, 0.25) * 100)  # em porcentagem"
   ]
  },
  {
   "cell_type": "code",
   "execution_count": null,
   "id": "4adfa6e9",
   "metadata": {},
   "outputs": [
    {
     "name": "stdout",
     "output_type": "stream",
     "text": [
      "0.00000596046447753906\n"
     ]
    }
   ],
   "source": [
    "# Probabilidade de gabaritar o concurso chutando (acertar as 12 questões)\n",
    "resultado = binom.pmf(12, 12, 0.25) * 100\n",
    "\n",
    "print(f\"{resultado:.20f}\")"
   ]
  },
  {
   "cell_type": "code",
   "execution_count": 34,
   "id": "c549c61d",
   "metadata": {},
   "outputs": [],
   "source": [
    "# Qui-quadrado em Python (usada para testar a independência entre duas variáveis categóricas ou para verificar a adequação de um modelo estatístico aos dados observados).\n",
    "# Fórmula do Qui-quadrado: χ² = Σ((O-E)² / E) onde O é o valor observado, E é o valor esperado, e a soma é feita sobre todas as categorias.\n",
    "import numpy as np\n",
    "from scipy.stats import chi2_contingency"
   ]
  },
  {
   "cell_type": "code",
   "execution_count": null,
   "id": "0fdf6029",
   "metadata": {},
   "outputs": [
    {
     "data": {
      "text/plain": [
       "array([[19,  6],\n",
       "       [43, 32]])"
      ]
     },
     "execution_count": 36,
     "metadata": {},
     "output_type": "execute_result"
    }
   ],
   "source": [
    "# Criando a matriz com os dados observados\n",
    "novela = np.array([[19, 6], \n",
    "                   [43, 32]])\n",
    "novela"
   ]
  },
  {
   "cell_type": "code",
   "execution_count": null,
   "id": "ffcbbd32",
   "metadata": {},
   "outputs": [
    {
     "name": "stdout",
     "output_type": "stream",
     "text": [
      "Chi2: 2.037351443123939, p-valor: 0.15347667161786666, graus de liberdade: 1, valores esperados: \n",
      "[[15.5  9.5]\n",
      " [46.5 28.5]]\n"
     ]
    }
   ],
   "source": [
    "# Segundo valor é o p-valor\n",
    "# Valor de p maior que 0.05 indica que não rejeitamos a hipótese nula\n",
    "chi2, p, dof, expected = chi2_contingency(novela) # chi2 é o valor do qui-quadrado, p é o p-valor, dof são os graus de liberdade, expected são os valores esperados\n",
    "print(f\"Chi2: {chi2}, p-valor: {p}, graus de liberdade: {dof}, valores esperados: \\n{expected}\")"
   ]
  },
  {
   "cell_type": "code",
   "execution_count": 42,
   "id": "45800407",
   "metadata": {},
   "outputs": [
    {
     "data": {
      "text/plain": [
       "array([[22,  3],\n",
       "       [43, 32]])"
      ]
     },
     "execution_count": 42,
     "metadata": {},
     "output_type": "execute_result"
    }
   ],
   "source": [
    "novela2 = np.array([[22, 3],\n",
    "                    [43, 32]])\n",
    "novela2"
   ]
  },
  {
   "cell_type": "code",
   "execution_count": 43,
   "id": "0c0ec5b7",
   "metadata": {},
   "outputs": [
    {
     "name": "stdout",
     "output_type": "stream",
     "text": [
      "Chi2: 6.461538461538461, p-valor: 0.011023416388221425, graus de liberdade: 1, valores esperados: \n",
      "[[16.25  8.75]\n",
      " [48.75 26.25]]\n"
     ]
    }
   ],
   "source": [
    "# Agora o valor de p deve ser menor que 0.05, indicando que rejeitamos a hipótese nula\n",
    "chi2, p, dof, expected = chi2_contingency(novela2)\n",
    "print(f\"Chi2: {chi2}, p-valor: {p}, graus de liberdade: {dof}, valores esperados: \\n{expected}\")"
   ]
  },
  {
   "cell_type": "code",
   "execution_count": 44,
   "id": "df1357d0",
   "metadata": {},
   "outputs": [
    {
     "data": {
      "text/html": [
       "<div>\n",
       "<style scoped>\n",
       "    .dataframe tbody tr th:only-of-type {\n",
       "        vertical-align: middle;\n",
       "    }\n",
       "\n",
       "    .dataframe tbody tr th {\n",
       "        vertical-align: top;\n",
       "    }\n",
       "\n",
       "    .dataframe thead th {\n",
       "        text-align: right;\n",
       "    }\n",
       "</style>\n",
       "<table border=\"1\" class=\"dataframe\">\n",
       "  <thead>\n",
       "    <tr style=\"text-align: right;\">\n",
       "      <th></th>\n",
       "      <th>Sexo</th>\n",
       "      <th>Remedio</th>\n",
       "      <th>Horas</th>\n",
       "    </tr>\n",
       "  </thead>\n",
       "  <tbody>\n",
       "    <tr>\n",
       "      <th>0</th>\n",
       "      <td>F</td>\n",
       "      <td>A</td>\n",
       "      <td>5</td>\n",
       "    </tr>\n",
       "    <tr>\n",
       "      <th>1</th>\n",
       "      <td>F</td>\n",
       "      <td>A</td>\n",
       "      <td>10</td>\n",
       "    </tr>\n",
       "    <tr>\n",
       "      <th>2</th>\n",
       "      <td>F</td>\n",
       "      <td>A</td>\n",
       "      <td>7</td>\n",
       "    </tr>\n",
       "    <tr>\n",
       "      <th>3</th>\n",
       "      <td>F</td>\n",
       "      <td>A</td>\n",
       "      <td>7</td>\n",
       "    </tr>\n",
       "    <tr>\n",
       "      <th>4</th>\n",
       "      <td>M</td>\n",
       "      <td>A</td>\n",
       "      <td>7</td>\n",
       "    </tr>\n",
       "  </tbody>\n",
       "</table>\n",
       "</div>"
      ],
      "text/plain": [
       "  Sexo Remedio  Horas\n",
       "0    F       A      5\n",
       "1    F       A     10\n",
       "2    F       A      7\n",
       "3    F       A      7\n",
       "4    M       A      7"
      ]
     },
     "execution_count": 44,
     "metadata": {},
     "output_type": "execute_result"
    }
   ],
   "source": [
    "# Anova em Python (usada para comparar as médias de três ou mais grupos independentes para determinar se há diferenças estatisticamente significativas entre elas).\n",
    "import pandas as pd\n",
    "from scipy import stats\n",
    "import statsmodels.api as sm\n",
    "from statsmodels.formula.api import ols\n",
    "from statsmodels.stats.multicomp import MultiComparison\n",
    "\n",
    "ARQ = '../data/raw/anova.csv'\n",
    "\n",
    "df = pd.read_csv(ARQ, sep=';')\n",
    "df.head()"
   ]
  },
  {
   "cell_type": "code",
   "execution_count": 46,
   "id": "107a3e35",
   "metadata": {},
   "outputs": [
    {
     "data": {
      "text/plain": [
       "<Axes: title={'center': 'Horas'}, xlabel='[Remedio]'>"
      ]
     },
     "execution_count": 46,
     "metadata": {},
     "output_type": "execute_result"
    },
    {
     "data": {
      "image/png": "[encoded data removed]",
      "text/plain": [
       "<Figure size 640x480 with 1 Axes>"
      ]
     },
     "metadata": {},
     "output_type": "display_data"
    }
   ],
   "source": [
    "# Boxplot para visualizar a distribuição dos dados\n",
    "df.boxplot(by='Remedio', grid=False)"
   ]
  },
  {
   "cell_type": "code",
   "execution_count": 47,
   "id": "062d9f96",
   "metadata": {},
   "outputs": [
    {
     "data": {
      "text/html": [
       "<div>\n",
       "<style scoped>\n",
       "    .dataframe tbody tr th:only-of-type {\n",
       "        vertical-align: middle;\n",
       "    }\n",
       "\n",
       "    .dataframe tbody tr th {\n",
       "        vertical-align: top;\n",
       "    }\n",
       "\n",
       "    .dataframe thead th {\n",
       "        text-align: right;\n",
       "    }\n",
       "</style>\n",
       "<table border=\"1\" class=\"dataframe\">\n",
       "  <thead>\n",
       "    <tr style=\"text-align: right;\">\n",
       "      <th></th>\n",
       "      <th>df</th>\n",
       "      <th>sum_sq</th>\n",
       "      <th>mean_sq</th>\n",
       "      <th>F</th>\n",
       "      <th>PR(&gt;F)</th>\n",
       "    </tr>\n",
       "  </thead>\n",
       "  <tbody>\n",
       "    <tr>\n",
       "      <th>Remedio</th>\n",
       "      <td>2.0</td>\n",
       "      <td>4.083333</td>\n",
       "      <td>2.041667</td>\n",
       "      <td>0.537618</td>\n",
       "      <td>0.591966</td>\n",
       "    </tr>\n",
       "    <tr>\n",
       "      <th>Residual</th>\n",
       "      <td>21.0</td>\n",
       "      <td>79.750000</td>\n",
       "      <td>3.797619</td>\n",
       "      <td>NaN</td>\n",
       "      <td>NaN</td>\n",
       "    </tr>\n",
       "  </tbody>\n",
       "</table>\n",
       "</div>"
      ],
      "text/plain": [
       "            df     sum_sq   mean_sq         F    PR(>F)\n",
       "Remedio    2.0   4.083333  2.041667  0.537618  0.591966\n",
       "Residual  21.0  79.750000  3.797619       NaN       NaN"
      ]
     },
     "execution_count": 47,
     "metadata": {},
     "output_type": "execute_result"
    }
   ],
   "source": [
    "# Criação do modelo de regressão linear e execução do teste\n",
    "modelo1 = ols('Horas ~ Remedio', data = df).fit()\n",
    "resultados1 = sm.stats.anova_lm(modelo1)\n",
    "# Observar valor de p maior que 0,05 (Pr(>F)) Hipótese nula de que não há diferença significativa\n",
    "resultados1"
   ]
  },
  {
   "cell_type": "code",
   "execution_count": 48,
   "id": "cf9985a2",
   "metadata": {},
   "outputs": [
    {
     "data": {
      "text/html": [
       "<div>\n",
       "<style scoped>\n",
       "    .dataframe tbody tr th:only-of-type {\n",
       "        vertical-align: middle;\n",
       "    }\n",
       "\n",
       "    .dataframe tbody tr th {\n",
       "        vertical-align: top;\n",
       "    }\n",
       "\n",
       "    .dataframe thead th {\n",
       "        text-align: right;\n",
       "    }\n",
       "</style>\n",
       "<table border=\"1\" class=\"dataframe\">\n",
       "  <thead>\n",
       "    <tr style=\"text-align: right;\">\n",
       "      <th></th>\n",
       "      <th>df</th>\n",
       "      <th>sum_sq</th>\n",
       "      <th>mean_sq</th>\n",
       "      <th>F</th>\n",
       "      <th>PR(&gt;F)</th>\n",
       "    </tr>\n",
       "  </thead>\n",
       "  <tbody>\n",
       "    <tr>\n",
       "      <th>Remedio</th>\n",
       "      <td>2.0</td>\n",
       "      <td>4.083333</td>\n",
       "      <td>2.041667</td>\n",
       "      <td>0.532609</td>\n",
       "      <td>0.596042</td>\n",
       "    </tr>\n",
       "    <tr>\n",
       "      <th>Sexo</th>\n",
       "      <td>1.0</td>\n",
       "      <td>4.166667</td>\n",
       "      <td>4.166667</td>\n",
       "      <td>1.086957</td>\n",
       "      <td>0.310948</td>\n",
       "    </tr>\n",
       "    <tr>\n",
       "      <th>Remedio:Sexo</th>\n",
       "      <td>2.0</td>\n",
       "      <td>6.583333</td>\n",
       "      <td>3.291667</td>\n",
       "      <td>0.858696</td>\n",
       "      <td>0.440360</td>\n",
       "    </tr>\n",
       "    <tr>\n",
       "      <th>Residual</th>\n",
       "      <td>18.0</td>\n",
       "      <td>69.000000</td>\n",
       "      <td>3.833333</td>\n",
       "      <td>NaN</td>\n",
       "      <td>NaN</td>\n",
       "    </tr>\n",
       "  </tbody>\n",
       "</table>\n",
       "</div>"
      ],
      "text/plain": [
       "                df     sum_sq   mean_sq         F    PR(>F)\n",
       "Remedio        2.0   4.083333  2.041667  0.532609  0.596042\n",
       "Sexo           1.0   4.166667  4.166667  1.086957  0.310948\n",
       "Remedio:Sexo   2.0   6.583333  3.291667  0.858696  0.440360\n",
       "Residual      18.0  69.000000  3.833333       NaN       NaN"
      ]
     },
     "execution_count": 48,
     "metadata": {},
     "output_type": "execute_result"
    }
   ],
   "source": [
    "# Criação do segundo modelo utilizando mais atributos e execução do teste\n",
    "modelo2 = ols('Horas ~ Remedio * Sexo', data = df).fit()\n",
    "resultados2 = sm.stats.anova_lm(modelo2)\n",
    "#Nenhum valor de P mostra diferença significativa\n",
    "resultados2"
   ]
  },
  {
   "cell_type": "code",
   "execution_count": 50,
   "id": "74f0dcf7",
   "metadata": {},
   "outputs": [
    {
     "name": "stdout",
     "output_type": "stream",
     "text": [
      "Multiple Comparison of Means - Tukey HSD, FWER=0.05\n",
      "=================================================\n",
      "group1 group2 meandiff p-adj  lower  upper reject\n",
      "-------------------------------------------------\n",
      "     A      B   -0.625 0.7991 -3.081 1.831  False\n",
      "     A      C    0.375 0.9219 -2.081 2.831  False\n",
      "     B      C      1.0 0.5689 -1.456 3.456  False\n",
      "-------------------------------------------------\n"
     ]
    }
   ],
   "source": [
    "#Se houver diferença o teste de Tukey é executado\n",
    "# Execução do teste de Tukey e visualização dos gráficos com os resultados\n",
    "mc = MultiComparison(df['Horas'], df['Remedio'])\n",
    "resultado_teste = mc.tukeyhsd()\n",
    "print(resultado_teste)\n",
    "# resultado_teste.plot_simultaneous()"
   ]
  }
 ],
 "metadata": {
  "kernelspec": {
   "display_name": "venv (3.13.7)",
   "language": "python",
   "name": "python3"
  },
  "language_info": {
   "codemirror_mode": {
    "name": "ipython",
    "version": 3
   },
   "file_extension": ".py",
   "mimetype": "text/x-python",
   "name": "python",
   "nbconvert_exporter": "python",
   "pygments_lexer": "ipython3",
   "version": "3.13.7"
  }
 },
 "nbformat": 4,
 "nbformat_minor": 5
}
