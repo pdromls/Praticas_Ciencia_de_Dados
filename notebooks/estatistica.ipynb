{
 "cells": [
  {
   "cell_type": "code",
   "execution_count": null,
   "id": "bdfdd55d",
   "metadata": {},
   "outputs": [
    {
     "data": {
      "text/html": [
       "<div>\n",
       "<style scoped>\n",
       "    .dataframe tbody tr th:only-of-type {\n",
       "        vertical-align: middle;\n",
       "    }\n",
       "\n",
       "    .dataframe tbody tr th {\n",
       "        vertical-align: top;\n",
       "    }\n",
       "\n",
       "    .dataframe thead th {\n",
       "        text-align: right;\n",
       "    }\n",
       "</style>\n",
       "<table border=\"1\" class=\"dataframe\">\n",
       "  <thead>\n",
       "    <tr style=\"text-align: right;\">\n",
       "      <th></th>\n",
       "      <th>sepal length</th>\n",
       "      <th>sepal width</th>\n",
       "      <th>petal length</th>\n",
       "      <th>petal width</th>\n",
       "      <th>class</th>\n",
       "    </tr>\n",
       "  </thead>\n",
       "  <tbody>\n",
       "    <tr>\n",
       "      <th>0</th>\n",
       "      <td>5.1</td>\n",
       "      <td>3.5</td>\n",
       "      <td>1.4</td>\n",
       "      <td>0.2</td>\n",
       "      <td>Iris-setosa</td>\n",
       "    </tr>\n",
       "    <tr>\n",
       "      <th>1</th>\n",
       "      <td>4.9</td>\n",
       "      <td>3.0</td>\n",
       "      <td>1.4</td>\n",
       "      <td>0.2</td>\n",
       "      <td>Iris-setosa</td>\n",
       "    </tr>\n",
       "    <tr>\n",
       "      <th>2</th>\n",
       "      <td>4.7</td>\n",
       "      <td>3.2</td>\n",
       "      <td>1.3</td>\n",
       "      <td>0.2</td>\n",
       "      <td>Iris-setosa</td>\n",
       "    </tr>\n",
       "    <tr>\n",
       "      <th>3</th>\n",
       "      <td>4.6</td>\n",
       "      <td>3.1</td>\n",
       "      <td>1.5</td>\n",
       "      <td>0.2</td>\n",
       "      <td>Iris-setosa</td>\n",
       "    </tr>\n",
       "    <tr>\n",
       "      <th>4</th>\n",
       "      <td>5.0</td>\n",
       "      <td>3.6</td>\n",
       "      <td>1.4</td>\n",
       "      <td>0.2</td>\n",
       "      <td>Iris-setosa</td>\n",
       "    </tr>\n",
       "    <tr>\n",
       "      <th>...</th>\n",
       "      <td>...</td>\n",
       "      <td>...</td>\n",
       "      <td>...</td>\n",
       "      <td>...</td>\n",
       "      <td>...</td>\n",
       "    </tr>\n",
       "    <tr>\n",
       "      <th>145</th>\n",
       "      <td>6.7</td>\n",
       "      <td>3.0</td>\n",
       "      <td>5.2</td>\n",
       "      <td>2.3</td>\n",
       "      <td>Iris-virginica</td>\n",
       "    </tr>\n",
       "    <tr>\n",
       "      <th>146</th>\n",
       "      <td>6.3</td>\n",
       "      <td>2.5</td>\n",
       "      <td>5.0</td>\n",
       "      <td>1.9</td>\n",
       "      <td>Iris-virginica</td>\n",
       "    </tr>\n",
       "    <tr>\n",
       "      <th>147</th>\n",
       "      <td>6.5</td>\n",
       "      <td>3.0</td>\n",
       "      <td>5.2</td>\n",
       "      <td>2.0</td>\n",
       "      <td>Iris-virginica</td>\n",
       "    </tr>\n",
       "    <tr>\n",
       "      <th>148</th>\n",
       "      <td>6.2</td>\n",
       "      <td>3.4</td>\n",
       "      <td>5.4</td>\n",
       "      <td>2.3</td>\n",
       "      <td>Iris-virginica</td>\n",
       "    </tr>\n",
       "    <tr>\n",
       "      <th>149</th>\n",
       "      <td>5.9</td>\n",
       "      <td>3.0</td>\n",
       "      <td>5.1</td>\n",
       "      <td>1.8</td>\n",
       "      <td>Iris-virginica</td>\n",
       "    </tr>\n",
       "  </tbody>\n",
       "</table>\n",
       "<p>150 rows × 5 columns</p>\n",
       "</div>"
      ],
      "text/plain": [
       "     sepal length  sepal width  petal length  petal width           class\n",
       "0             5.1          3.5           1.4          0.2     Iris-setosa\n",
       "1             4.9          3.0           1.4          0.2     Iris-setosa\n",
       "2             4.7          3.2           1.3          0.2     Iris-setosa\n",
       "3             4.6          3.1           1.5          0.2     Iris-setosa\n",
       "4             5.0          3.6           1.4          0.2     Iris-setosa\n",
       "..            ...          ...           ...          ...             ...\n",
       "145           6.7          3.0           5.2          2.3  Iris-virginica\n",
       "146           6.3          2.5           5.0          1.9  Iris-virginica\n",
       "147           6.5          3.0           5.2          2.0  Iris-virginica\n",
       "148           6.2          3.4           5.4          2.3  Iris-virginica\n",
       "149           5.9          3.0           5.1          1.8  Iris-virginica\n",
       "\n",
       "[150 rows x 5 columns]"
      ]
     },
     "execution_count": 19,
     "metadata": {},
     "output_type": "execute_result"
    }
   ],
   "source": [
    "# Amostragem Simples\n",
    "import pandas as pd\n",
    "import numpy as np\n",
    "\n",
    "ARQ = '../data/raw/iris.csv'\n",
    "\n",
    "df = pd.read_csv(ARQ)\n",
    "df"
   ]
  },
  {
   "cell_type": "code",
   "execution_count": 10,
   "id": "01cc019b",
   "metadata": {},
   "outputs": [
    {
     "data": {
      "text/plain": [
       "(150, 5)"
      ]
     },
     "execution_count": 10,
     "metadata": {},
     "output_type": "execute_result"
    }
   ],
   "source": [
    "df.shape"
   ]
  },
  {
   "cell_type": "code",
   "execution_count": 16,
   "id": "421b2515",
   "metadata": {},
   "outputs": [
    {
     "data": {
      "text/plain": [
       "array([0, 0, 0, 0, 1, 0, 0, 0, 1, 0, 0, 1, 0, 1, 0, 0, 1, 0, 1, 1, 1, 0,\n",
       "       0, 1, 1, 1, 0, 1, 0, 0, 1, 0, 0, 1, 1, 0, 1, 0, 0, 0, 1, 0, 1, 0,\n",
       "       0, 0, 0, 0, 0, 0, 1, 1, 0, 0, 0, 0, 0, 0, 0, 0, 0, 1, 0, 0, 1, 0,\n",
       "       0, 1, 0, 0, 1, 0, 0, 0, 0, 1, 0, 1, 0, 0, 1, 1, 0, 0, 0, 0, 0, 0,\n",
       "       0, 0, 0, 0, 1, 0, 1, 1, 1, 1, 1, 1, 0, 0, 0, 0, 0, 0, 0, 0, 1, 0,\n",
       "       0, 0, 0, 0, 0, 0, 0, 0, 1, 0, 0, 0, 0, 0, 1, 1, 1, 0, 1, 0, 1, 1,\n",
       "       1, 0, 0, 0, 0, 0, 0, 0, 0, 1, 1, 0, 0, 1, 1, 0, 0, 1])"
      ]
     },
     "execution_count": 16,
     "metadata": {},
     "output_type": "execute_result"
    }
   ],
   "source": [
    "np.random.seed(2345)\n",
    "# 150 amostras, de 0 a 1, com reposição probabilidades equivalentes\n",
    "amostra = np.random.choice(a=[0, 1], size=150, replace=True, p=[0.7, 0.3])\n",
    "\n",
    "# len(amostra)\n",
    "# len(amostra[amostra == 1])\n",
    "# len(amostra[amostra == 0])\n",
    "amostra"
   ]
  },
  {
   "cell_type": "code",
   "execution_count": 17,
   "id": "d9e3b5cf",
   "metadata": {},
   "outputs": [
    {
     "data": {
      "text/plain": [
       "(101, 5)"
      ]
     },
     "execution_count": 17,
     "metadata": {},
     "output_type": "execute_result"
    }
   ],
   "source": [
    "df_final = df.loc[amostra == 0]\n",
    "df_final.shape"
   ]
  },
  {
   "cell_type": "code",
   "execution_count": 18,
   "id": "93cb109e",
   "metadata": {},
   "outputs": [
    {
     "data": {
      "text/plain": [
       "(49, 5)"
      ]
     },
     "execution_count": 18,
     "metadata": {},
     "output_type": "execute_result"
    }
   ],
   "source": [
    "df_final2 = df.loc[amostra == 1]\n",
    "df_final2.shape"
   ]
  },
  {
   "cell_type": "code",
   "execution_count": 20,
   "id": "059724f2",
   "metadata": {},
   "outputs": [],
   "source": [
    "# Amostragem Sistemática\n",
    "import pandas as pd\n",
    "import numpy as np\n",
    "from math import ceil"
   ]
  },
  {
   "cell_type": "code",
   "execution_count": 21,
   "id": "5e4ffe1f",
   "metadata": {},
   "outputs": [
    {
     "name": "stdout",
     "output_type": "stream",
     "text": [
      "10\n"
     ]
    }
   ],
   "source": [
    "populacao = 150\n",
    "amostra = 15\n",
    "k = ceil(populacao / amostra)\n",
    "print(k)"
   ]
  },
  {
   "cell_type": "code",
   "execution_count": 28,
   "id": "0a0b0779",
   "metadata": {},
   "outputs": [
    {
     "name": "stdout",
     "output_type": "stream",
     "text": [
      "[9]\n"
     ]
    }
   ],
   "source": [
    "# Definindo o ponto de partida aleatório\n",
    "r = np.random.randint(low = 1, high = k + 1, size = 1)\n",
    "print(r)"
   ]
  },
  {
   "cell_type": "code",
   "execution_count": 29,
   "id": "1d5bdc39",
   "metadata": {},
   "outputs": [
    {
     "name": "stdout",
     "output_type": "stream",
     "text": [
      "[9, 19, 29, 39, 49, 59, 69, 79, 89, 99, 109, 119, 129, 139, 149]\n"
     ]
    }
   ],
   "source": [
    "# Usando um for para somar os próximos valores, baseado no primeiro valor r\n",
    "acumulador = int(r[0])\n",
    "sorteados = []\n",
    "for i in range(amostra):\n",
    "    sorteados.append(acumulador)\n",
    "    acumulador += k\n",
    "print(sorteados)"
   ]
  },
  {
   "cell_type": "code",
   "execution_count": 30,
   "id": "396d83ab",
   "metadata": {},
   "outputs": [
    {
     "data": {
      "text/html": [
       "<div>\n",
       "<style scoped>\n",
       "    .dataframe tbody tr th:only-of-type {\n",
       "        vertical-align: middle;\n",
       "    }\n",
       "\n",
       "    .dataframe tbody tr th {\n",
       "        vertical-align: top;\n",
       "    }\n",
       "\n",
       "    .dataframe thead th {\n",
       "        text-align: right;\n",
       "    }\n",
       "</style>\n",
       "<table border=\"1\" class=\"dataframe\">\n",
       "  <thead>\n",
       "    <tr style=\"text-align: right;\">\n",
       "      <th></th>\n",
       "      <th>sepal length</th>\n",
       "      <th>sepal width</th>\n",
       "      <th>petal length</th>\n",
       "      <th>petal width</th>\n",
       "      <th>class</th>\n",
       "    </tr>\n",
       "  </thead>\n",
       "  <tbody>\n",
       "    <tr>\n",
       "      <th>9</th>\n",
       "      <td>4.9</td>\n",
       "      <td>3.1</td>\n",
       "      <td>1.5</td>\n",
       "      <td>0.1</td>\n",
       "      <td>Iris-setosa</td>\n",
       "    </tr>\n",
       "    <tr>\n",
       "      <th>19</th>\n",
       "      <td>5.1</td>\n",
       "      <td>3.8</td>\n",
       "      <td>1.5</td>\n",
       "      <td>0.3</td>\n",
       "      <td>Iris-setosa</td>\n",
       "    </tr>\n",
       "    <tr>\n",
       "      <th>29</th>\n",
       "      <td>4.7</td>\n",
       "      <td>3.2</td>\n",
       "      <td>1.6</td>\n",
       "      <td>0.2</td>\n",
       "      <td>Iris-setosa</td>\n",
       "    </tr>\n",
       "    <tr>\n",
       "      <th>39</th>\n",
       "      <td>5.1</td>\n",
       "      <td>3.4</td>\n",
       "      <td>1.5</td>\n",
       "      <td>0.2</td>\n",
       "      <td>Iris-setosa</td>\n",
       "    </tr>\n",
       "    <tr>\n",
       "      <th>49</th>\n",
       "      <td>5.0</td>\n",
       "      <td>3.3</td>\n",
       "      <td>1.4</td>\n",
       "      <td>0.2</td>\n",
       "      <td>Iris-setosa</td>\n",
       "    </tr>\n",
       "    <tr>\n",
       "      <th>59</th>\n",
       "      <td>5.2</td>\n",
       "      <td>2.7</td>\n",
       "      <td>3.9</td>\n",
       "      <td>1.4</td>\n",
       "      <td>Iris-versicolor</td>\n",
       "    </tr>\n",
       "    <tr>\n",
       "      <th>69</th>\n",
       "      <td>5.6</td>\n",
       "      <td>2.5</td>\n",
       "      <td>3.9</td>\n",
       "      <td>1.1</td>\n",
       "      <td>Iris-versicolor</td>\n",
       "    </tr>\n",
       "    <tr>\n",
       "      <th>79</th>\n",
       "      <td>5.7</td>\n",
       "      <td>2.6</td>\n",
       "      <td>3.5</td>\n",
       "      <td>1.0</td>\n",
       "      <td>Iris-versicolor</td>\n",
       "    </tr>\n",
       "    <tr>\n",
       "      <th>89</th>\n",
       "      <td>5.5</td>\n",
       "      <td>2.5</td>\n",
       "      <td>4.0</td>\n",
       "      <td>1.3</td>\n",
       "      <td>Iris-versicolor</td>\n",
       "    </tr>\n",
       "    <tr>\n",
       "      <th>99</th>\n",
       "      <td>5.7</td>\n",
       "      <td>2.8</td>\n",
       "      <td>4.1</td>\n",
       "      <td>1.3</td>\n",
       "      <td>Iris-versicolor</td>\n",
       "    </tr>\n",
       "    <tr>\n",
       "      <th>109</th>\n",
       "      <td>7.2</td>\n",
       "      <td>3.6</td>\n",
       "      <td>6.1</td>\n",
       "      <td>2.5</td>\n",
       "      <td>Iris-virginica</td>\n",
       "    </tr>\n",
       "    <tr>\n",
       "      <th>119</th>\n",
       "      <td>6.0</td>\n",
       "      <td>2.2</td>\n",
       "      <td>5.0</td>\n",
       "      <td>1.5</td>\n",
       "      <td>Iris-virginica</td>\n",
       "    </tr>\n",
       "    <tr>\n",
       "      <th>129</th>\n",
       "      <td>7.2</td>\n",
       "      <td>3.0</td>\n",
       "      <td>5.8</td>\n",
       "      <td>1.6</td>\n",
       "      <td>Iris-virginica</td>\n",
       "    </tr>\n",
       "    <tr>\n",
       "      <th>139</th>\n",
       "      <td>6.9</td>\n",
       "      <td>3.1</td>\n",
       "      <td>5.4</td>\n",
       "      <td>2.1</td>\n",
       "      <td>Iris-virginica</td>\n",
       "    </tr>\n",
       "    <tr>\n",
       "      <th>149</th>\n",
       "      <td>5.9</td>\n",
       "      <td>3.0</td>\n",
       "      <td>5.1</td>\n",
       "      <td>1.8</td>\n",
       "      <td>Iris-virginica</td>\n",
       "    </tr>\n",
       "  </tbody>\n",
       "</table>\n",
       "</div>"
      ],
      "text/plain": [
       "     sepal length  sepal width  petal length  petal width            class\n",
       "9             4.9          3.1           1.5          0.1      Iris-setosa\n",
       "19            5.1          3.8           1.5          0.3      Iris-setosa\n",
       "29            4.7          3.2           1.6          0.2      Iris-setosa\n",
       "39            5.1          3.4           1.5          0.2      Iris-setosa\n",
       "49            5.0          3.3           1.4          0.2      Iris-setosa\n",
       "59            5.2          2.7           3.9          1.4  Iris-versicolor\n",
       "69            5.6          2.5           3.9          1.1  Iris-versicolor\n",
       "79            5.7          2.6           3.5          1.0  Iris-versicolor\n",
       "89            5.5          2.5           4.0          1.3  Iris-versicolor\n",
       "99            5.7          2.8           4.1          1.3  Iris-versicolor\n",
       "109           7.2          3.6           6.1          2.5   Iris-virginica\n",
       "119           6.0          2.2           5.0          1.5   Iris-virginica\n",
       "129           7.2          3.0           5.8          1.6   Iris-virginica\n",
       "139           6.9          3.1           5.4          2.1   Iris-virginica\n",
       "149           5.9          3.0           5.1          1.8   Iris-virginica"
      ]
     },
     "execution_count": 30,
     "metadata": {},
     "output_type": "execute_result"
    }
   ],
   "source": [
    "df_final_sistematica = df.loc[sorteados]\n",
    "df_final_sistematica"
   ]
  },
  {
   "cell_type": "code",
   "execution_count": 32,
   "id": "9ab42509",
   "metadata": {},
   "outputs": [],
   "source": [
    "# Amostra Estratificada\n",
    "import pandas as pd\n",
    "from sklearn.model_selection import train_test_split"
   ]
  },
  {
   "cell_type": "code",
   "execution_count": 33,
   "id": "22626717",
   "metadata": {},
   "outputs": [
    {
     "data": {
      "text/plain": [
       "class\n",
       "Iris-setosa        50\n",
       "Iris-versicolor    50\n",
       "Iris-virginica     50\n",
       "Name: count, dtype: int64"
      ]
     },
     "execution_count": 33,
     "metadata": {},
     "output_type": "execute_result"
    }
   ],
   "source": [
    "df['class'].value_counts()"
   ]
  },
  {
   "cell_type": "code",
   "execution_count": 34,
   "id": "b5d360b4",
   "metadata": {},
   "outputs": [
    {
     "data": {
      "text/plain": [
       "class\n",
       "Iris-setosa        25\n",
       "Iris-versicolor    25\n",
       "Iris-virginica     25\n",
       "Name: count, dtype: int64"
      ]
     },
     "execution_count": 34,
     "metadata": {},
     "output_type": "execute_result"
    }
   ],
   "source": [
    "# df.iloc[:, 0:4]  # todas as linhas, colunas 0 a 3\n",
    "# df.iloc[:, 4]    # todas as linhas, coluna 4\n",
    "# test_size = 0.5  # 50% da base para teste e por isso colocamos \"_\" para os outros valores\n",
    "# stratify = df.iloc[:, 4]  # estratificação pela coluna 4 (class)\n",
    "\n",
    "X, _ , y, _ = train_test_split(df.iloc[:, 0:4], df.iloc[:, 4], test_size=0.5, stratify=df.iloc[:, 4])\n",
    "y.value_counts()"
   ]
  },
  {
   "cell_type": "code",
   "execution_count": 35,
   "id": "ed5c5696",
   "metadata": {},
   "outputs": [
    {
     "data": {
      "text/html": [
       "<div>\n",
       "<style scoped>\n",
       "    .dataframe tbody tr th:only-of-type {\n",
       "        vertical-align: middle;\n",
       "    }\n",
       "\n",
       "    .dataframe tbody tr th {\n",
       "        vertical-align: top;\n",
       "    }\n",
       "\n",
       "    .dataframe thead th {\n",
       "        text-align: right;\n",
       "    }\n",
       "</style>\n",
       "<table border=\"1\" class=\"dataframe\">\n",
       "  <thead>\n",
       "    <tr style=\"text-align: right;\">\n",
       "      <th></th>\n",
       "      <th>Unnamed: 0</th>\n",
       "      <th>education</th>\n",
       "      <th>age</th>\n",
       "      <th>parity</th>\n",
       "      <th>induced</th>\n",
       "      <th>case</th>\n",
       "      <th>spontaneous</th>\n",
       "      <th>stratum</th>\n",
       "      <th>pooled.stratum</th>\n",
       "    </tr>\n",
       "  </thead>\n",
       "  <tbody>\n",
       "    <tr>\n",
       "      <th>0</th>\n",
       "      <td>1</td>\n",
       "      <td>0-5yrs</td>\n",
       "      <td>26</td>\n",
       "      <td>6</td>\n",
       "      <td>1</td>\n",
       "      <td>1</td>\n",
       "      <td>2</td>\n",
       "      <td>1</td>\n",
       "      <td>3</td>\n",
       "    </tr>\n",
       "    <tr>\n",
       "      <th>1</th>\n",
       "      <td>2</td>\n",
       "      <td>0-5yrs</td>\n",
       "      <td>42</td>\n",
       "      <td>1</td>\n",
       "      <td>1</td>\n",
       "      <td>1</td>\n",
       "      <td>0</td>\n",
       "      <td>2</td>\n",
       "      <td>1</td>\n",
       "    </tr>\n",
       "    <tr>\n",
       "      <th>2</th>\n",
       "      <td>3</td>\n",
       "      <td>0-5yrs</td>\n",
       "      <td>39</td>\n",
       "      <td>6</td>\n",
       "      <td>2</td>\n",
       "      <td>1</td>\n",
       "      <td>0</td>\n",
       "      <td>3</td>\n",
       "      <td>4</td>\n",
       "    </tr>\n",
       "    <tr>\n",
       "      <th>3</th>\n",
       "      <td>4</td>\n",
       "      <td>0-5yrs</td>\n",
       "      <td>34</td>\n",
       "      <td>4</td>\n",
       "      <td>2</td>\n",
       "      <td>1</td>\n",
       "      <td>0</td>\n",
       "      <td>4</td>\n",
       "      <td>2</td>\n",
       "    </tr>\n",
       "    <tr>\n",
       "      <th>4</th>\n",
       "      <td>5</td>\n",
       "      <td>6-11yrs</td>\n",
       "      <td>35</td>\n",
       "      <td>3</td>\n",
       "      <td>1</td>\n",
       "      <td>1</td>\n",
       "      <td>1</td>\n",
       "      <td>5</td>\n",
       "      <td>32</td>\n",
       "    </tr>\n",
       "    <tr>\n",
       "      <th>...</th>\n",
       "      <td>...</td>\n",
       "      <td>...</td>\n",
       "      <td>...</td>\n",
       "      <td>...</td>\n",
       "      <td>...</td>\n",
       "      <td>...</td>\n",
       "      <td>...</td>\n",
       "      <td>...</td>\n",
       "      <td>...</td>\n",
       "    </tr>\n",
       "    <tr>\n",
       "      <th>243</th>\n",
       "      <td>244</td>\n",
       "      <td>12+ yrs</td>\n",
       "      <td>31</td>\n",
       "      <td>1</td>\n",
       "      <td>0</td>\n",
       "      <td>0</td>\n",
       "      <td>1</td>\n",
       "      <td>79</td>\n",
       "      <td>45</td>\n",
       "    </tr>\n",
       "    <tr>\n",
       "      <th>244</th>\n",
       "      <td>245</td>\n",
       "      <td>12+ yrs</td>\n",
       "      <td>34</td>\n",
       "      <td>1</td>\n",
       "      <td>0</td>\n",
       "      <td>0</td>\n",
       "      <td>0</td>\n",
       "      <td>80</td>\n",
       "      <td>47</td>\n",
       "    </tr>\n",
       "    <tr>\n",
       "      <th>245</th>\n",
       "      <td>246</td>\n",
       "      <td>12+ yrs</td>\n",
       "      <td>35</td>\n",
       "      <td>2</td>\n",
       "      <td>2</td>\n",
       "      <td>0</td>\n",
       "      <td>0</td>\n",
       "      <td>81</td>\n",
       "      <td>54</td>\n",
       "    </tr>\n",
       "    <tr>\n",
       "      <th>246</th>\n",
       "      <td>247</td>\n",
       "      <td>12+ yrs</td>\n",
       "      <td>29</td>\n",
       "      <td>1</td>\n",
       "      <td>0</td>\n",
       "      <td>0</td>\n",
       "      <td>1</td>\n",
       "      <td>82</td>\n",
       "      <td>43</td>\n",
       "    </tr>\n",
       "    <tr>\n",
       "      <th>247</th>\n",
       "      <td>248</td>\n",
       "      <td>12+ yrs</td>\n",
       "      <td>23</td>\n",
       "      <td>1</td>\n",
       "      <td>0</td>\n",
       "      <td>0</td>\n",
       "      <td>1</td>\n",
       "      <td>83</td>\n",
       "      <td>40</td>\n",
       "    </tr>\n",
       "  </tbody>\n",
       "</table>\n",
       "<p>248 rows × 9 columns</p>\n",
       "</div>"
      ],
      "text/plain": [
       "     Unnamed: 0 education  age  parity  induced  case  spontaneous  stratum  \\\n",
       "0             1    0-5yrs   26       6        1     1            2        1   \n",
       "1             2    0-5yrs   42       1        1     1            0        2   \n",
       "2             3    0-5yrs   39       6        2     1            0        3   \n",
       "3             4    0-5yrs   34       4        2     1            0        4   \n",
       "4             5   6-11yrs   35       3        1     1            1        5   \n",
       "..          ...       ...  ...     ...      ...   ...          ...      ...   \n",
       "243         244   12+ yrs   31       1        0     0            1       79   \n",
       "244         245   12+ yrs   34       1        0     0            0       80   \n",
       "245         246   12+ yrs   35       2        2     0            0       81   \n",
       "246         247   12+ yrs   29       1        0     0            1       82   \n",
       "247         248   12+ yrs   23       1        0     0            1       83   \n",
       "\n",
       "     pooled.stratum  \n",
       "0                 3  \n",
       "1                 1  \n",
       "2                 4  \n",
       "3                 2  \n",
       "4                32  \n",
       "..              ...  \n",
       "243              45  \n",
       "244              47  \n",
       "245              54  \n",
       "246              43  \n",
       "247              40  \n",
       "\n",
       "[248 rows x 9 columns]"
      ]
     },
     "execution_count": 35,
     "metadata": {},
     "output_type": "execute_result"
    }
   ],
   "source": [
    "ARQ2 = '../data/raw/infert.csv'\n",
    "df2 = pd.read_csv(ARQ2)\n",
    "df2"
   ]
  },
  {
   "cell_type": "code",
   "execution_count": 36,
   "id": "337f0025",
   "metadata": {},
   "outputs": [
    {
     "data": {
      "text/plain": [
       "education\n",
       "6-11yrs    120\n",
       "12+ yrs    116\n",
       "0-5yrs      12\n",
       "Name: count, dtype: int64"
      ]
     },
     "execution_count": 36,
     "metadata": {},
     "output_type": "execute_result"
    }
   ],
   "source": [
    "df2['education'].value_counts()"
   ]
  },
  {
   "cell_type": "code",
   "execution_count": 37,
   "id": "00063b86",
   "metadata": {},
   "outputs": [
    {
     "data": {
      "text/plain": [
       "education\n",
       "6-11yrs    48\n",
       "12+ yrs    46\n",
       "0-5yrs      5\n",
       "Name: count, dtype: int64"
      ]
     },
     "execution_count": 37,
     "metadata": {},
     "output_type": "execute_result"
    }
   ],
   "source": [
    "# Criando uma amostra com somente 40% dos registros (por isso é definido 0.6, pois 1 - 0.4 = 0.6)\n",
    "X1, _ , y1, _ = train_test_split(df2.iloc[:, 2:9], df2.iloc[:, 1], test_size=0.6, stratify=df2.iloc[:, 1])\n",
    "y1.value_counts()"
   ]
  },
  {
   "cell_type": "code",
   "execution_count": 50,
   "id": "aa8870e3",
   "metadata": {},
   "outputs": [],
   "source": [
    "# Medidas de Centralidade e Variabilidade\n",
    "# scipy para estatísticas mais detallhadas\n",
    "import pandas as pd\n",
    "import numpy as np\n",
    "from scipy import stats"
   ]
  },
  {
   "cell_type": "code",
   "execution_count": null,
   "id": "85f1ddff",
   "metadata": {},
   "outputs": [
    {
     "name": "stdout",
     "output_type": "stream",
     "text": [
      "181111\n"
     ]
    }
   ],
   "source": [
    "jogadores = [40000, 18000, 12000, 250000, 30000, 140000, 300000, 40000, 800000] # salários anuais em R$\n",
    "np.mean(jogadores)"
   ]
  },
  {
   "cell_type": "code",
   "execution_count": 40,
   "id": "b7272fed",
   "metadata": {},
   "outputs": [
    {
     "data": {
      "text/plain": [
       "np.float64(40000.0)"
      ]
     },
     "execution_count": 40,
     "metadata": {},
     "output_type": "execute_result"
    }
   ],
   "source": [
    "np.median(jogadores)"
   ]
  },
  {
   "cell_type": "code",
   "execution_count": 41,
   "id": "c3519e95",
   "metadata": {},
   "outputs": [
    {
     "data": {
      "text/plain": [
       "array([ 12000.,  30000.,  40000., 250000., 800000.])"
      ]
     },
     "execution_count": 41,
     "metadata": {},
     "output_type": "execute_result"
    }
   ],
   "source": [
    "# Gerando os quartis\n",
    "quartis = np.quantile(jogadores, [0, 0.25, 0.5, 0.75, 1])\n",
    "quartis"
   ]
  },
  {
   "cell_type": "code",
   "execution_count": 44,
   "id": "69ee1012",
   "metadata": {},
   "outputs": [
    {
     "data": {
      "text/plain": [
       "np.float64(255307.87514511007)"
      ]
     },
     "execution_count": 44,
     "metadata": {},
     "output_type": "execute_result"
    }
   ],
   "source": [
    "# Visualizando o desvio padrão\n",
    "np.std(jogadores, ddof=1) # ddof=1 para amostra"
   ]
  },
  {
   "cell_type": "code",
   "execution_count": 53,
   "id": "63fd36df",
   "metadata": {},
   "outputs": [
    {
     "data": {
      "text/plain": [
       "DescribeResult(nobs=np.int64(9), minmax=(np.int64(12000), np.int64(800000)), mean=np.float64(181111.11111111112), variance=np.float64(65182111111.11111), skewness=np.float64(1.758635899846188), kurtosis=np.float64(1.9572075427527729))"
      ]
     },
     "execution_count": 53,
     "metadata": {},
     "output_type": "execute_result"
    }
   ],
   "source": [
    "stats.describe(jogadores)"
   ]
  },
  {
   "cell_type": "code",
   "execution_count": 51,
   "id": "7596468f",
   "metadata": {},
   "outputs": [
    {
     "data": {
      "text/plain": [
       "count         9.000000\n",
       "mean     181111.111111\n",
       "std      255307.875145\n",
       "min       12000.000000\n",
       "25%       30000.000000\n",
       "50%       40000.000000\n",
       "75%      250000.000000\n",
       "max      800000.000000\n",
       "dtype: float64"
      ]
     },
     "execution_count": 51,
     "metadata": {},
     "output_type": "execute_result"
    }
   ],
   "source": [
    "s_jogadores = pd.Series(jogadores)\n",
    "s_jogadores.describe()"
   ]
  },
  {
   "cell_type": "code",
   "execution_count": 57,
   "id": "587d6147",
   "metadata": {},
   "outputs": [],
   "source": [
    "# Distribuição Normal\n",
    "from scipy.stats import norm"
   ]
  },
  {
   "cell_type": "code",
   "execution_count": 58,
   "id": "4a6023c3",
   "metadata": {},
   "outputs": [
    {
     "data": {
      "text/plain": [
       "np.float64(0.15865525393145707)"
      ]
     },
     "execution_count": 58,
     "metadata": {},
     "output_type": "execute_result"
    }
   ],
   "source": [
    "# Conjunto de objetos em uma cesta, a média é 8 e o desvio padrão é 2\n",
    "#  Qual a probabilidade de tirar um objeto que o peso é menor que 6 quilos?\n",
    "norm.cdf(6, 8, 2)"
   ]
  },
  {
   "cell_type": "code",
   "execution_count": 63,
   "id": "3652a318",
   "metadata": {},
   "outputs": [
    {
     "data": {
      "text/plain": [
       "np.float64(0.8413447460685429)"
      ]
     },
     "execution_count": 63,
     "metadata": {},
     "output_type": "execute_result"
    }
   ],
   "source": [
    "# Qual a probabilidade de tirar um objeto que o peso é maior que 6 quilos?\n",
    "1 - norm.cdf(6, 8, 2)\n",
    "# norm.sf(6, 8, 2)"
   ]
  },
  {
   "cell_type": "code",
   "execution_count": 64,
   "id": "93514a78",
   "metadata": {},
   "outputs": [
    {
     "data": {
      "text/plain": [
       "np.float64(0.31731050786291415)"
      ]
     },
     "execution_count": 64,
     "metadata": {},
     "output_type": "execute_result"
    }
   ],
   "source": [
    "# Qual a probabilidade de tirar um objeto que o peso é menor que 6 ou maior que 10 quilos?\n",
    "norm.cdf(6, 8, 2) + norm.sf(10, 8, 2)"
   ]
  },
  {
   "cell_type": "code",
   "execution_count": 65,
   "id": "8c94c1ec",
   "metadata": {},
   "outputs": [
    {
     "data": {
      "text/plain": [
       "np.float64(0.3413447460685429)"
      ]
     },
     "execution_count": 65,
     "metadata": {},
     "output_type": "execute_result"
    }
   ],
   "source": [
    "# Qual a probabilidade de tirar um objeto que o peso é menor que 10 e maior que 8 quilos?\n",
    "norm.cdf(10, 8, 2) - norm.cdf(8, 8, 2)"
   ]
  },
  {
   "cell_type": "code",
   "execution_count": 76,
   "id": "9f4df1c6",
   "metadata": {},
   "outputs": [],
   "source": [
    "# Teste de distribuição normal\n",
    "import seaborn as sns\n",
    "import matplotlib.pyplot as plt\n",
    "from scipy import stats\n",
    "from scipy.stats import norm, skewnorm"
   ]
  },
  {
   "cell_type": "code",
   "execution_count": 69,
   "id": "e547f70b",
   "metadata": {},
   "outputs": [
    {
     "data": {
      "text/plain": [
       "array([ 1.81955005e-01, -1.29738298e-01, -8.90344512e-01,  7.65034699e-01,\n",
       "        1.68367861e+00, -4.00696691e-01,  1.29379605e-01,  5.75398150e-01,\n",
       "        4.49769516e-01,  2.04213385e+00,  8.73361521e-01,  8.67818245e-01,\n",
       "       -1.36167664e+00, -6.94312973e-01,  2.09450223e-02, -4.54739088e-01,\n",
       "        1.15680615e-01,  3.43586620e-01, -1.11882034e-01,  2.40744881e+00,\n",
       "        6.59176098e-01,  1.80341357e+00, -9.56012994e-02,  1.05690350e+00,\n",
       "        1.03136955e-01,  8.61328808e-01,  1.78548367e+00,  2.00073285e-01,\n",
       "        1.41769941e+00, -2.22085635e-01,  4.66518020e-01,  1.10276315e+00,\n",
       "       -1.31202073e+00,  7.47016570e-01, -1.73367293e+00,  5.82553180e-02,\n",
       "       -4.57518970e-01, -8.94741946e-01, -7.31710459e-01, -7.55731386e-02,\n",
       "        2.18587792e+00, -1.03008922e+00, -1.09746350e+00, -9.24019559e-01,\n",
       "        6.92594430e-01, -3.25354318e+00,  8.72118875e-01,  1.93033707e+00,\n",
       "       -1.70544882e+00, -9.70060326e-01, -1.27251808e+00, -1.53190927e+00,\n",
       "       -1.12212291e+00,  2.47368776e+00, -1.02153450e+00, -6.14806139e-01,\n",
       "       -1.81265402e+00, -1.02928304e+00,  1.26763598e+00, -2.19356213e-01,\n",
       "        3.13714825e-01, -4.72459010e-01,  8.07353010e-01,  3.51251408e-01,\n",
       "        7.18105893e-01,  8.22025495e-01,  6.50506594e-01,  3.09933974e-01,\n",
       "        2.82463932e-01,  1.43622088e+00,  1.18691734e+00, -2.36107719e-01,\n",
       "       -5.70041427e-01,  1.03997137e+00, -2.19572825e-01, -2.39098247e-01,\n",
       "        6.99144962e-01,  1.62542659e+00, -9.83915040e-01, -9.75626217e-01,\n",
       "       -5.00907265e-01,  5.85901018e-01, -2.32755140e-02, -1.63663908e+00,\n",
       "        1.79464386e+00, -1.21270495e-01,  3.73761241e-01,  2.65293973e-01,\n",
       "       -8.10349915e-01, -9.23623375e-02, -1.31333959e+00,  1.37479450e+00,\n",
       "       -4.77433402e-01,  1.46331280e-01,  3.61065009e-01,  1.51652987e+00,\n",
       "        9.63488844e-01,  4.54716759e-01,  1.18588731e+00, -1.10364838e+00,\n",
       "       -3.55173821e-01, -5.48320288e-01,  1.16496247e+00,  5.20055725e-01,\n",
       "        1.51989500e+00, -9.25958855e-01,  6.26953717e-01,  2.12663769e-02,\n",
       "       -1.79559432e+00,  3.47717433e-01, -1.49524014e-01, -1.45422880e+00,\n",
       "        2.95171076e-01,  9.17690405e-01, -1.76824172e-01,  7.40058515e-01,\n",
       "        1.69183027e-02, -1.18422389e-01,  2.47750402e-01, -1.09329396e+00,\n",
       "       -4.43799129e-01,  1.41612141e+00,  6.76640319e-01, -2.54920389e-01,\n",
       "       -1.70738795e+00,  7.70627567e-01, -6.20270086e-01, -1.41574103e+00,\n",
       "       -1.11503759e+00,  6.04655540e-02,  6.71782962e-02, -1.35701628e+00,\n",
       "        3.76573439e-01, -1.56794892e+00, -7.82711816e-01,  1.33464907e+00,\n",
       "       -1.06651172e+00,  1.33134974e-01, -3.91726695e-01,  6.03459979e-01,\n",
       "       -5.26779155e-01, -2.10451306e+00, -8.25235434e-01,  1.04014075e+00,\n",
       "        6.66420260e-01, -1.70938509e+00,  3.79435321e-02,  1.12817858e+00,\n",
       "        1.57391286e+00, -2.74593453e-01,  3.49578809e-01, -2.46616980e-02,\n",
       "       -1.16817646e+00, -8.19164026e-01,  4.71574867e-01, -1.52985467e+00,\n",
       "        6.41616517e-01, -1.17475026e+00, -1.04271809e+00, -1.41647674e+00,\n",
       "        5.51696710e-01, -3.72931869e-01, -5.36560934e-01, -1.35789502e+00,\n",
       "       -6.95415146e-01,  4.31930830e-02, -1.27639596e+00,  9.11157432e-01,\n",
       "       -5.03179247e-01, -8.54767135e-01, -1.10413676e+00, -4.75991642e-01,\n",
       "       -5.38958266e-01,  1.22684635e+00,  7.44482307e-02, -9.38706503e-01,\n",
       "        1.25002853e+00, -8.87940934e-01,  1.43228996e+00,  3.71355383e-01,\n",
       "       -1.62602472e-01,  1.98618816e+00,  5.02920985e-01,  9.36884938e-01,\n",
       "       -1.37828175e+00, -5.50442807e-01, -4.08178810e-01, -7.73236844e-01,\n",
       "       -2.86579783e-02, -8.68046390e-01,  1.53310208e+00, -7.88469015e-02,\n",
       "       -1.05722375e+00,  1.25514923e+00, -4.60605806e-01,  1.62483547e-01,\n",
       "       -1.42360341e+00,  1.08121588e-01,  3.22713769e-01, -8.50681787e-01,\n",
       "        2.74675452e-01, -3.66551537e-01, -1.21413664e+00, -1.27986452e-01,\n",
       "       -1.67653665e+00,  1.30923287e+00, -2.31992669e-01,  8.59309235e-02,\n",
       "        6.03478570e-01, -3.96149617e-01,  4.21414691e-01,  2.14020397e+00,\n",
       "       -5.69142039e-01, -1.92927423e-01, -6.89451222e-01, -5.81411752e-01,\n",
       "       -1.47339508e+00, -4.66226161e-01, -2.29399094e+00,  6.92696486e-01,\n",
       "        9.03884195e-02,  2.01478469e+00,  2.74541197e-01, -4.99948790e-01,\n",
       "       -1.67172581e+00,  1.25620380e+00,  1.17281866e-01,  3.14734305e-01,\n",
       "       -4.50998992e-01, -1.54065403e-01,  4.30199674e-01,  3.95659863e-01,\n",
       "       -1.62618368e+00, -1.48782304e+00, -1.52278680e+00,  1.46240627e+00,\n",
       "       -6.85215318e-01,  7.48503358e-01, -1.34883327e-01,  8.69509687e-01,\n",
       "        1.37914844e+00, -2.50242948e+00,  1.95643775e-01, -2.80402795e+00,\n",
       "        7.27397543e-01,  1.68087642e-01, -1.93618373e-01,  1.38614018e+00,\n",
       "       -9.49162907e-01, -6.42993264e-01,  6.30714555e-02,  1.48462220e-01,\n",
       "        5.32725368e-01,  1.93970619e-01, -8.81820066e-02,  3.12954210e-01,\n",
       "       -5.53951362e-01,  6.97291543e-02,  2.32969994e-02,  3.79887684e-01,\n",
       "        1.78680340e+00, -5.84108711e-01,  7.09742881e-01,  1.91910107e-01,\n",
       "       -4.32715923e-01, -1.28635661e+00, -4.30962707e-01, -1.14833181e+00,\n",
       "       -1.02317922e+00,  2.36008463e-01, -3.85784997e-01, -5.67929870e-01,\n",
       "       -4.19087760e-01,  3.18165927e-01,  1.16274184e+00,  7.94304098e-01,\n",
       "        8.82309306e-03, -2.40048836e-01, -6.86324509e-01, -1.26242514e+00,\n",
       "        1.66307711e+00,  1.56374122e+00, -1.78566718e-01, -9.71906061e-01,\n",
       "        2.19166932e+00,  9.49339479e-01, -2.13610686e-01, -2.13359551e+00,\n",
       "       -2.64301896e-01, -2.68241252e-01,  5.20888675e-01, -1.37414638e-01,\n",
       "       -5.40373407e-01,  8.64798418e-01,  8.62447299e-01, -6.50678315e-01,\n",
       "        5.62196080e-01, -1.88381708e+00,  1.01316838e+00, -6.15743830e-01,\n",
       "       -3.66019896e-01, -6.10038262e-01, -8.77153837e-01,  3.27926603e-01,\n",
       "       -7.40946950e-01, -7.24442731e-01, -2.28865812e-01, -1.76689619e-01,\n",
       "       -1.63525972e+00,  2.19623735e+00,  8.72359174e-01,  1.78900624e+00,\n",
       "       -9.79058596e-01,  1.77551140e+00, -8.02707466e-01,  6.08683701e-01,\n",
       "       -2.25526652e+00, -2.33825000e-01,  1.19603989e+00,  1.14931530e+00,\n",
       "       -6.79008646e-01,  7.00463092e-02,  2.90832480e+00,  9.91741393e-01,\n",
       "        2.34541123e-01,  3.42543916e-01,  6.26441301e-01,  4.02708820e-01,\n",
       "       -1.25542970e+00, -1.34735531e+00,  2.01950963e+00, -1.25171169e+00,\n",
       "        3.74874129e-01, -8.21267826e-01, -1.44810120e-01,  9.53078688e-01,\n",
       "       -4.66314788e-01, -1.24475607e+00, -7.80277205e-01, -9.86955728e-01,\n",
       "       -8.35278010e-02, -1.31007421e-01,  1.44273064e-01,  2.23986128e-01,\n",
       "       -2.22623790e+00, -2.54394233e-01,  9.20808204e-01,  1.29921944e+00,\n",
       "        1.02898652e+00,  8.06932631e-02,  1.46443693e+00, -1.02569075e+00,\n",
       "       -1.29042363e+00, -1.20690678e+00,  8.07645544e-01, -2.32439652e+00,\n",
       "        7.62938695e-01, -2.21710024e+00,  2.35656902e+00,  1.10420944e+00,\n",
       "        1.64547823e+00,  1.49243498e+00,  4.55810765e-01,  1.63920626e+00,\n",
       "       -1.04936875e-01, -6.42093793e-01, -1.78600353e-01, -7.83348149e-01,\n",
       "        8.56926500e-01,  2.05088017e-01, -5.41123922e-01,  1.96818371e-01,\n",
       "       -1.41118136e+00, -1.66466692e+00,  8.89496357e-02,  1.44185023e+00,\n",
       "        1.06497488e+00,  1.76178495e+00, -3.24455523e-01,  1.61843360e+00,\n",
       "        1.30782993e+00, -2.37620015e+00, -5.60367001e-02, -3.68773172e-02,\n",
       "        1.31563848e+00,  1.45526298e-01, -1.99805626e+00,  2.57769845e-01,\n",
       "        1.91197650e-01, -1.24532304e+00, -1.60050801e+00, -1.36344234e+00,\n",
       "        1.43960779e+00,  1.05564067e-01,  1.69972706e-01,  1.38169265e+00,\n",
       "        1.05188391e+00, -3.48829223e-01, -7.41836231e-01, -3.29776098e-01,\n",
       "       -4.41175012e-01, -4.25745996e-01,  1.55421862e-02, -1.14006943e+00,\n",
       "       -6.51850817e-01, -4.39716494e-01, -1.36399417e+00, -2.11282738e-01,\n",
       "       -1.48833639e-01, -1.59829821e+00,  1.45991748e-02,  2.74890695e-01,\n",
       "        8.37560612e-01, -1.11606281e+00, -1.67328851e-01, -5.92570849e-01,\n",
       "        2.44929710e-01,  1.64064775e+00, -2.22627248e+00,  8.11960312e-01,\n",
       "       -2.30386697e-01,  1.63642728e+00, -3.20796552e-01, -7.88946561e-01,\n",
       "       -4.07051201e-01,  2.32883439e-01,  1.17670798e-01,  2.39028290e-01,\n",
       "        6.14499855e-01,  4.91994801e-01,  1.06846283e+00, -1.35776344e-01,\n",
       "        3.23548993e-01,  8.43139555e-01,  2.58160393e-01,  1.24877459e+00,\n",
       "        3.95456534e-01, -1.53713859e+00, -7.09257330e-01,  4.13479846e-02,\n",
       "        6.88680772e-01,  1.50256215e-01, -6.47609594e-01, -5.15384630e-01,\n",
       "       -9.80924722e-01,  1.29548279e-01,  7.62035112e-01, -7.30002799e-01,\n",
       "       -2.31649421e+00,  2.38292032e-01,  5.59740324e-02,  2.36660904e-01,\n",
       "        2.34521768e+00,  1.88985244e+00,  7.41270176e-01, -8.92180353e-01,\n",
       "       -4.91950718e-01, -1.15976203e+00, -9.93511520e-01, -1.22370688e+00,\n",
       "        8.71719811e-01, -3.67764766e-01, -9.70625474e-02,  3.51719917e-01,\n",
       "        7.06352815e-01, -1.66195445e+00, -3.83098898e-01, -1.23323948e-01,\n",
       "       -1.12801048e+00, -1.19151308e+00, -1.56637223e+00,  5.08155490e-01,\n",
       "        5.59120627e-01,  1.07287522e-01,  1.08918528e+00,  6.02366052e-01,\n",
       "       -1.79378807e-02,  1.34960874e+00,  1.63711543e+00, -8.27594747e-01,\n",
       "        5.10708680e-01, -9.76804325e-01,  2.35230302e-01, -1.40976615e+00,\n",
       "        3.25279591e-01, -1.57739595e+00,  2.34462906e-01,  5.23663518e-01,\n",
       "        5.66902318e-02,  1.00197638e-01,  4.70427196e-01, -2.34874460e-01,\n",
       "       -6.28939483e-01, -1.16229849e+00,  1.34085659e+00,  2.54665083e-02,\n",
       "       -5.30996698e-01, -2.55377154e-01,  1.61128827e-01, -9.17610547e-01,\n",
       "       -1.60966861e+00, -9.26126469e-01,  5.94944552e-01, -2.39803131e-01,\n",
       "       -2.24933047e-01, -6.53005600e-01,  5.02378804e-01,  4.58639838e-01,\n",
       "       -2.10683399e+00, -1.65439549e+00,  3.22190447e-01, -1.16637592e+00,\n",
       "       -7.87588195e-01, -8.88642091e-02, -9.51621482e-01, -1.88026900e+00,\n",
       "       -8.22792142e-01,  3.87224039e-01, -3.95937620e-01,  7.70649426e-01,\n",
       "        9.97091665e-01, -1.33447372e+00,  3.48199368e-02,  3.57479637e-01,\n",
       "        1.50276752e+00, -1.56938172e-01,  4.49299881e-01,  1.06409797e+00,\n",
       "       -1.09160830e-01,  1.30561559e+00, -8.02172736e-01,  6.34041491e-01,\n",
       "       -2.48158894e+00, -1.93939710e+00,  6.69825019e-01,  9.66134095e-01,\n",
       "       -7.47336158e-01, -9.54164507e-01,  1.72737612e+00,  5.53554164e-01,\n",
       "        2.42805654e-01,  6.88295457e-01, -6.79167552e-01,  1.66756010e+00,\n",
       "       -5.57952122e-01, -1.68243099e-01,  4.54853314e-01, -4.37726541e-01,\n",
       "       -9.24064228e-01,  1.65345550e+00,  1.28171396e-01, -1.11051145e+00,\n",
       "        2.92142104e-01,  9.93872186e-01, -2.39550949e-02, -4.10837776e-01,\n",
       "        1.76224556e+00, -5.17997227e-01, -1.08903778e+00,  1.26959830e-01,\n",
       "       -1.07007939e+00,  3.76855624e-01,  3.74511045e-01, -2.00078784e-01,\n",
       "        6.30118593e-01,  1.37628311e+00,  1.39828865e+00, -1.23204987e+00,\n",
       "        2.30112044e-01, -1.23536383e+00,  1.18346776e+00, -1.35479415e+00,\n",
       "       -7.02321483e-01,  1.45893441e+00, -7.55813295e-01, -1.62732142e+00,\n",
       "        7.76483677e-01, -5.35767423e-01,  1.60363756e+00,  2.07850299e-01,\n",
       "       -4.97015459e-01,  4.90838653e-01,  2.37367857e-01,  5.86011106e-01,\n",
       "        2.91870956e-02, -3.87266929e-01, -1.86709564e+00, -1.20546484e+00,\n",
       "       -1.69441359e-01,  6.93298153e-01, -4.29305668e-02,  3.41946061e-01,\n",
       "        1.24269944e+00,  2.52412961e-01, -2.77601588e-02,  1.28945163e+00,\n",
       "       -9.32103101e-02,  5.90301851e-01,  2.25280788e-01, -4.08420154e-01,\n",
       "        1.33104780e-01, -3.37232615e-01, -2.55905620e-02,  4.91664032e-01,\n",
       "        1.05313225e-01, -2.72135652e+00, -3.17321642e-01, -1.48073548e+00,\n",
       "       -3.80680422e-01,  9.32768916e-01,  5.01782749e-01, -1.36371987e+00,\n",
       "        1.14164722e+00, -2.54307151e+00,  5.07090698e-01, -1.58431214e-01,\n",
       "        4.48655941e-01, -1.18620237e+00,  1.43070815e+00,  5.20859409e-01,\n",
       "        8.59817585e-01, -1.11502458e+00,  1.19643197e+00,  7.85502868e-01,\n",
       "       -4.79348829e-01, -7.09464573e-01,  1.58431577e-01, -1.28595655e-01,\n",
       "       -5.84691653e-01,  1.04210516e+00, -4.54154341e-01, -8.48620731e-01,\n",
       "        6.49654260e-01, -5.33167340e-01, -1.80385958e-01, -9.75808629e-01,\n",
       "       -4.54201858e-01,  2.27212230e-01, -8.90088700e-01,  1.64769420e+00,\n",
       "        5.14951019e-01,  1.53319245e-01, -7.10790568e-01,  1.07812207e+00,\n",
       "        1.18463478e+00, -8.05214477e-01,  7.39923334e-01,  1.16115195e+00,\n",
       "        1.25700301e+00,  1.03051561e+00,  1.19763825e-03, -1.32689647e-01,\n",
       "       -1.36400953e+00, -8.32569622e-01, -3.06210333e-01, -1.03543080e+00,\n",
       "       -1.07826012e+00,  2.62570519e-01, -9.90188312e-01,  2.21458432e-01,\n",
       "        8.90824641e-01,  8.91213159e-01,  2.00093984e-01,  6.64999158e-02,\n",
       "        1.04235209e+00, -5.04737294e-01,  7.71202565e-01, -6.10237889e-02,\n",
       "       -4.35652931e-01, -1.04720679e+00, -8.06373226e-01,  5.01707406e-01,\n",
       "        1.47077081e+00, -2.92035896e-01,  5.63953188e-01, -5.69166560e-01,\n",
       "        5.77085943e-02,  8.19378593e-01, -6.55532047e-01,  5.06047352e-01,\n",
       "       -6.98069393e-01, -5.93982968e-01,  9.05045119e-02,  1.09305104e+00,\n",
       "        8.48181766e-02, -8.24495000e-01, -1.59644620e+00, -7.69637799e-01,\n",
       "        1.72654961e+00,  1.08750397e+00,  1.69571606e+00, -1.16637627e-01,\n",
       "       -1.21467630e+00, -4.39777959e-01, -1.74885107e+00, -1.29351102e+00,\n",
       "       -1.13483250e+00, -1.33764997e+00, -2.00041490e-01, -3.52509802e-01,\n",
       "        5.46976837e-01,  1.58313502e+00,  2.43323153e+00, -6.60065418e-01,\n",
       "        3.06031489e-01,  3.19063260e-01, -1.08738470e-01,  4.38244100e-01,\n",
       "       -5.42017804e-01, -9.11724196e-01,  9.53382953e-01,  8.40169229e-01,\n",
       "        5.03735225e-01, -5.47644161e-01,  8.58014640e-01,  3.98604213e-01,\n",
       "       -1.79448333e+00, -1.88486927e-01, -9.84117226e-01, -1.49423551e-01,\n",
       "       -5.59089792e-01, -5.81381146e-01,  2.11684371e+00, -6.45615775e-01,\n",
       "       -5.46176885e-01, -1.62165179e+00,  1.37887196e+00, -1.87850449e+00,\n",
       "       -2.16889554e+00,  1.85967071e-02, -4.01995616e-01,  1.04426231e+00,\n",
       "        1.08778665e+00,  1.34075899e+00,  1.29357626e+00,  6.95579262e-01,\n",
       "        7.18631269e-01, -1.97223575e+00,  1.16104057e+00, -3.04241815e-01,\n",
       "        1.11030908e+00,  3.24091161e-02,  8.77555921e-01, -6.16239833e-02,\n",
       "       -2.01157655e+00, -8.75535009e-01,  8.35514053e-02,  1.26005978e+00,\n",
       "       -2.26152746e-01, -1.02911840e+00, -3.72327393e-01, -5.60467381e-01,\n",
       "        2.32572235e+00, -8.04471933e-01, -1.34357414e-01, -1.71897033e+00,\n",
       "        4.81848398e-01, -8.91057486e-01, -1.01319119e+00,  2.56431406e-01,\n",
       "       -8.81210667e-01, -2.21920935e-01, -1.59736004e-01, -4.19358359e-01,\n",
       "       -2.08478064e-01, -2.10625259e+00,  9.68992167e-01,  8.86926545e-02,\n",
       "       -7.66239488e-01, -6.35827955e-02, -1.30305710e+00, -1.25668839e+00,\n",
       "        9.72347633e-02, -2.81665862e-01, -6.93943961e-01, -1.44375995e+00,\n",
       "       -6.79122800e-01, -2.85674763e-01,  1.69663609e+00,  6.32965217e-01,\n",
       "       -7.36562314e-01,  4.35528140e-01, -4.38592680e-01,  9.80998358e-01,\n",
       "       -1.64984745e+00, -1.42513574e+00,  1.43344691e-01, -1.22087628e+00,\n",
       "       -4.93943112e-01,  1.00233637e+00,  2.58936228e-01, -8.41659440e-01,\n",
       "        3.63471361e-02,  2.76429986e+00,  8.72758158e-01,  1.00797079e+00,\n",
       "       -1.19006071e+00, -1.00857873e+00, -9.36089809e-01, -1.56536977e-01,\n",
       "        1.44365673e+00, -1.34796910e-01,  4.32731830e-01, -1.58848080e+00,\n",
       "        1.17264935e+00, -4.61665364e-01, -2.01722116e+00, -1.20120306e+00,\n",
       "        1.53835501e+00, -4.85234149e-01, -9.91168150e-01,  1.41712941e-01,\n",
       "       -1.15574499e+00, -5.77887862e-01, -2.63290744e+00, -8.51311157e-01,\n",
       "       -1.44963208e+00, -6.55536714e-01, -8.85480757e-02,  4.89454667e-01,\n",
       "       -1.72161760e-01, -2.68521436e-01, -5.04120892e-01,  5.85200260e-01,\n",
       "       -1.19746364e+00, -7.78312010e-01,  5.39814520e-01,  1.34895494e+00,\n",
       "       -1.37456836e+00, -6.28157757e-01,  9.80276079e-01,  1.95965100e-02,\n",
       "        9.77833615e-01,  3.49885389e-01, -2.91167377e-01, -9.08819230e-01,\n",
       "        9.43571818e-01, -5.89600304e-02,  3.28734800e-02, -4.49008516e-01,\n",
       "       -7.05821882e-01,  1.46305641e+00, -1.24703410e-01,  2.20327230e-02,\n",
       "       -1.28906109e-01,  1.53421001e+00, -1.51413449e-01, -3.35574041e-01,\n",
       "        6.36949633e-01, -9.85851027e-02,  6.21736293e-01, -6.68606891e-01,\n",
       "       -3.54869063e-01, -1.66854874e+00, -1.54228343e+00, -9.31574439e-01,\n",
       "        4.85187322e-01, -8.85823304e-01,  1.37104274e+00,  8.12326073e-01,\n",
       "       -5.88404153e-01,  9.55383801e-01,  8.00857090e-01,  1.64785969e+00,\n",
       "        1.88046064e-01, -5.74771660e-01, -1.77996450e-01,  7.09396758e-01,\n",
       "        1.60346534e+00,  1.69360368e-03, -1.26981571e+00,  7.99375924e-01,\n",
       "        1.28671290e+00, -1.02770971e+00, -4.76854232e-01,  1.88419525e+00,\n",
       "       -4.16959210e-01, -9.11894360e-02, -1.25808173e+00, -3.62568449e-01,\n",
       "       -8.90772275e-02,  7.94550345e-01,  5.64091822e-01, -3.49324906e-01,\n",
       "       -4.06352225e-01,  7.81002359e-01,  3.06717079e-01, -1.35393621e-01,\n",
       "        1.25241154e+00, -1.17082529e+00, -9.80846579e-01,  7.78528513e-01,\n",
       "        1.05859937e+00,  2.48000910e-01,  1.03750188e+00, -1.01207464e+00,\n",
       "       -2.39784771e+00, -5.13898362e-01,  4.54979550e-01, -1.07217477e-01,\n",
       "        1.12598084e-01, -5.17007518e-02, -6.14364137e-01,  7.11715333e-01,\n",
       "        1.54881877e+00,  2.31228840e-01,  1.74940077e+00, -9.76335068e-01,\n",
       "        1.59371358e-01, -3.02035913e+00, -6.96758699e-01,  1.06239175e+00,\n",
       "       -1.03258166e+00,  3.36881829e-01, -5.48853463e-01, -5.31031614e-01,\n",
       "       -8.72089010e-01, -5.52036153e-01,  3.01190564e+00,  1.81720310e+00,\n",
       "        2.35744698e-01, -8.97132695e-01, -2.06499700e-01, -4.25980581e-01,\n",
       "        8.94529914e-01, -1.61571504e+00,  3.66162925e-01,  2.27400889e+00,\n",
       "       -9.72855462e-01, -9.43030379e-01, -5.78974229e-01,  1.38046699e+00,\n",
       "        5.05615708e-01, -2.03768821e+00,  7.54994770e-01,  1.78897507e+00,\n",
       "       -8.83589345e-01, -1.75343028e+00,  2.86534309e-01,  7.61497763e-01,\n",
       "       -1.62596623e+00,  7.83237141e-01, -7.54750449e-01,  7.36034344e-02,\n",
       "        3.17991899e-01,  1.27326479e-01,  1.88601221e+00,  2.42483173e-01,\n",
       "       -1.70745331e-01, -8.26296334e-01, -1.61808714e-01, -3.58832670e-01,\n",
       "        1.21115912e+00, -4.23937113e-01,  1.02628828e+00,  5.09189754e-01,\n",
       "       -7.76700260e-01, -1.22911998e+00, -1.43476727e+00,  2.98657514e-01,\n",
       "        5.04233465e-01,  1.12119256e+00, -1.33938016e+00,  6.76958865e-01,\n",
       "       -2.18497478e+00,  3.18675060e-01, -1.42113214e+00, -3.44976495e-01,\n",
       "        5.81861405e-01, -1.47153906e+00,  6.99840319e-02, -2.52995442e+00,\n",
       "        1.72077916e-01,  3.54371395e-01,  9.80717996e-02, -1.31258739e+00,\n",
       "        1.50814437e+00, -6.28925942e-01,  1.76039700e+00,  9.03101947e-01,\n",
       "       -1.58842578e+00, -4.57951677e-01,  1.67413416e-01, -2.28232405e+00,\n",
       "        8.21693381e-01, -1.13348162e-01,  1.99866907e+00,  2.42136724e+00,\n",
       "        1.48391500e+00,  3.35923552e-01,  1.18245917e+00,  2.48357476e-01,\n",
       "       -3.76210367e-01, -3.72966784e-01, -2.34859910e-01,  8.42303122e-02,\n",
       "       -7.10653962e-01, -3.48632232e-01,  1.38174013e-01,  1.36224734e-01])"
      ]
     },
     "execution_count": 69,
     "metadata": {},
     "output_type": "execute_result"
    }
   ],
   "source": [
    "# Criando dados em uma distribuição normal\n",
    "dados = norm.rvs(size=1000)\n",
    "dados"
   ]
  },
  {
   "cell_type": "code",
   "execution_count": 71,
   "id": "0c6c8bde",
   "metadata": {},
   "outputs": [
    {
     "data": {
      "image/png": "[encoded data removed]",
      "text/plain": [
       "<Figure size 640x480 with 1 Axes>"
      ]
     },
     "metadata": {},
     "output_type": "display_data"
    }
   ],
   "source": [
    "sns.histplot(dados, kde=True)\n",
    "plt.xlabel('Valores')\n",
    "plt.ylabel('Frequência')\n",
    "plt.title('Distribuição Normal dos Dados')\n",
    "plt.show()"
   ]
  },
  {
   "cell_type": "code",
   "execution_count": 73,
   "id": "147b4b1d",
   "metadata": {},
   "outputs": [
    {
     "data": {
      "image/png": "[encoded data removed]",
      "text/plain": [
       "<Figure size 640x480 with 1 Axes>"
      ]
     },
     "metadata": {},
     "output_type": "display_data"
    }
   ],
   "source": [
    "fig, ax = plt.subplots()\n",
    "stats.probplot(dados, fit=True, plot=ax)\n",
    "plt.show()"
   ]
  },
  {
   "cell_type": "code",
   "execution_count": 74,
   "id": "355967fc",
   "metadata": {},
   "outputs": [
    {
     "data": {
      "text/plain": [
       "ShapiroResult(statistic=np.float64(0.9990354923844912), pvalue=np.float64(0.8908340350048625))"
      ]
     },
     "execution_count": 74,
     "metadata": {},
     "output_type": "execute_result"
    }
   ],
   "source": [
    "# Execução do teste de Shapiro-Wilk\n",
    "stats.shapiro(dados)"
   ]
  },
  {
   "cell_type": "code",
   "execution_count": 87,
   "id": "77eac6af",
   "metadata": {},
   "outputs": [
    {
     "data": {
      "text/plain": [
       "array([ 1.42621778e+00,  7.08069771e-01,  2.04087498e-01, -2.89138736e-01,\n",
       "        2.11087868e-01,  2.70250905e+00,  1.77689609e+00,  9.37398059e-01,\n",
       "        2.53225814e-03,  9.72286216e-01,  1.31175960e+00,  1.13301406e+00,\n",
       "        3.46925669e-01,  6.84846207e-01,  1.11143743e+00,  7.92410464e-01,\n",
       "       -3.44836670e-01,  1.26571131e+00,  6.86522631e-01,  1.92677743e-01,\n",
       "        1.13301877e-01,  4.55215689e-01,  7.35823240e-01,  3.21202001e-01,\n",
       "        2.70506481e-01,  2.20651160e-01,  6.67003278e-02,  7.99517596e-02,\n",
       "        1.17909494e+00,  1.73289376e-01,  7.60597093e-01,  2.03032136e-01,\n",
       "        6.95045399e-01,  2.40162916e+00,  3.38117127e-01,  7.91074323e-01,\n",
       "        1.65683165e+00,  4.51779245e-01, -7.11638619e-03,  3.85050533e-01,\n",
       "        5.39249924e-01,  7.97370410e-01, -2.89166805e-02,  1.43927922e+00,\n",
       "        7.63132328e-01,  2.13373032e+00,  6.39112836e-01,  6.09427345e-01,\n",
       "        2.69405269e-01,  3.90633034e-01,  9.89348846e-01,  6.73447628e-01,\n",
       "        2.41509140e-01,  1.60976254e-01,  4.70234613e-02,  2.00902671e-01,\n",
       "        7.08487855e-01,  7.97340346e-01,  1.94875110e+00,  3.49763497e-01,\n",
       "        8.96240554e-01,  4.16279262e-01,  1.80006022e+00, -1.49482722e-01,\n",
       "        1.44791648e-01, -3.08684471e-01,  1.86105319e-01,  6.89273546e-01,\n",
       "        1.93349140e+00,  1.41811731e+00, -6.48175699e-02,  5.10820441e-01,\n",
       "        1.30048501e+00,  6.02895082e-01,  2.17621155e-01,  5.33556774e-01,\n",
       "        3.23278707e-01,  1.59351424e+00,  8.79464912e-01,  6.17082275e-01,\n",
       "       -1.99585194e-01,  1.21392470e+00,  1.25039372e+00, -3.53491850e-01,\n",
       "        1.06454461e+00,  1.96656285e+00,  3.93696723e-01,  1.40573743e+00,\n",
       "        9.09600921e-01,  4.80271489e-01,  1.35863793e+00,  4.20807806e-01,\n",
       "        8.30874968e-01,  4.51499119e-01,  1.72394625e-01,  1.93202395e+00,\n",
       "        1.10417625e+00,  1.13065810e+00,  1.29465874e+00,  1.79631275e+00,\n",
       "        2.18449022e+00,  1.53374741e-01,  1.53833799e-01,  4.26184598e-01,\n",
       "        9.47472487e-01,  8.99694175e-01,  5.05890537e-01,  1.36582916e+00,\n",
       "        1.07821597e+00,  9.35533163e-01,  2.46504935e-01, -1.30457178e-01,\n",
       "        6.51622630e-01,  7.65829644e-01,  1.65204659e+00,  1.21086800e+00,\n",
       "        1.61730011e-01,  1.10868196e+00,  4.25565083e-01,  7.88398396e-02,\n",
       "        2.43416238e+00, -8.14645751e-02,  3.31630007e-01,  1.45965504e+00,\n",
       "        2.46159742e-01,  2.72727082e+00,  6.40979893e-01,  1.48147728e+00,\n",
       "        7.62927904e-01,  1.90862884e+00,  1.10640963e+00,  2.30701582e-01,\n",
       "        1.37761568e+00,  9.70317844e-01,  8.68410068e-01,  8.23158231e-02,\n",
       "        4.92690207e-01,  6.75454116e-01,  8.96941294e-01,  1.02950435e+00,\n",
       "        8.83350646e-02,  5.27258160e-01,  2.94005661e-01, -3.90760789e-02,\n",
       "        2.29941399e-01,  3.88814001e-01,  7.08204108e-01,  1.58418145e+00,\n",
       "        2.21875855e-02,  9.43353123e-02,  1.20862123e+00,  4.48947503e-01,\n",
       "        7.12072733e-01,  1.10660779e+00,  1.68797897e+00,  6.80041942e-01,\n",
       "        3.96465857e-01,  3.27123868e-01,  1.84839773e+00,  2.55396552e+00,\n",
       "        1.51126487e+00,  4.55975208e-01,  1.21634071e+00,  6.66044921e-01,\n",
       "        6.09128007e-04,  6.98997560e-01,  1.56609880e+00, -9.98687960e-02,\n",
       "        9.23232615e-01,  2.65665088e+00, -3.01595184e-01,  1.37531730e+00,\n",
       "        6.77471971e-01,  1.80984952e-01,  5.70233660e-01,  8.61044325e-02,\n",
       "        3.49055974e-02,  3.14728554e-01,  1.19333490e+00,  3.45515718e-01,\n",
       "        7.02781101e-01,  5.59993628e-01,  2.32402410e+00,  3.52266682e-01,\n",
       "        7.04950560e-01,  2.93218110e-01,  1.08326439e+00,  1.58487350e+00,\n",
       "        1.20277309e+00,  7.59876840e-01,  3.42869111e-01,  4.19993721e-01,\n",
       "       -8.18193494e-02,  1.33788259e+00,  8.78933199e-01,  2.34895789e+00,\n",
       "        1.09767316e+00,  1.09184964e+00,  6.36585107e-01,  3.06479804e-01,\n",
       "        2.23887324e+00,  1.28921997e-01,  1.30781598e+00, -2.45623650e-01,\n",
       "        9.81297553e-01,  7.19694984e-01,  7.68166972e-01,  1.41326695e+00,\n",
       "        1.25786259e+00,  1.10398537e+00,  4.99842852e-02,  6.40152235e-01,\n",
       "        7.63296933e-01,  6.89986003e-01,  2.38752552e+00,  1.39888356e+00,\n",
       "        1.25976381e+00,  1.16204129e+00,  9.34809360e-01,  9.66463340e-01,\n",
       "        2.74812121e-01,  9.87706875e-01,  2.35782546e-01,  6.67668971e-01,\n",
       "       -2.31426690e-02,  1.08567613e+00,  1.12219157e+00,  2.82180059e-01,\n",
       "        7.39455948e-01,  3.84576090e-01,  1.05267642e+00,  8.74808564e-01,\n",
       "        1.03137085e+00,  2.03633597e+00,  1.86827142e+00,  2.04942818e+00,\n",
       "        6.74958710e-01,  9.07512677e-01,  5.15018609e-01,  2.18470182e-01,\n",
       "        1.21310040e+00, -2.86935783e-01,  1.77885134e+00,  5.50021766e-01,\n",
       "        1.70702202e+00,  5.43917142e-01,  2.08141145e-01,  4.95146697e-01,\n",
       "        1.55834765e+00,  1.64793198e-02,  1.47263877e+00,  1.31918538e+00,\n",
       "        2.29421368e+00,  3.02782231e-01,  8.60538618e-01,  5.15786569e-01,\n",
       "        1.15903054e-01,  1.83789910e+00,  3.97048173e-01,  1.87233296e-01,\n",
       "        9.47261986e-01,  5.86215204e-01,  5.12798960e-01,  2.01240060e-01,\n",
       "        5.48425574e-01,  7.19766273e-01,  1.55664861e+00,  1.20092131e+00,\n",
       "        1.84125424e+00,  1.10847159e+00,  9.20063077e-01,  7.06726010e-02,\n",
       "        6.27448234e-01,  1.35023089e+00,  1.49564415e+00,  8.97303313e-01,\n",
       "        5.34849628e-01,  6.27442911e-01,  8.58911537e-01,  2.09270292e+00,\n",
       "        1.02295548e+00,  1.14426607e+00,  1.18514304e+00,  1.27585550e+00,\n",
       "        1.17107284e+00, -1.32941580e-01,  1.34467681e+00,  6.30175336e-01,\n",
       "        6.07386667e-01,  1.17759245e+00,  7.52040905e-01, -4.97699874e-01,\n",
       "        7.59924929e-01, -2.96974315e-02,  2.56583172e-01,  4.13398024e-01,\n",
       "        5.80804577e-01,  8.00313500e-01,  5.71496440e-01,  5.31237030e-01,\n",
       "       -1.84523082e-01,  1.21479220e+00,  4.43769283e-01,  9.40624228e-01,\n",
       "        8.86848742e-01,  3.66594535e-01,  3.87714667e-01,  2.70601991e-02,\n",
       "        8.60546226e-01,  1.57025098e+00, -1.96763749e-01,  1.92120452e+00,\n",
       "        6.13706277e-01,  3.75814514e-01, -2.05584859e-01,  9.56676348e-01,\n",
       "        5.78364909e-01,  9.50250897e-01,  1.21973188e+00,  9.38885132e-01,\n",
       "        7.72526967e-01,  1.68369181e-02,  2.04486071e+00,  6.01837757e-01,\n",
       "        9.07669773e-01,  5.18202814e-01,  1.65664552e+00,  7.52116155e-01,\n",
       "        1.35915281e+00,  7.07458495e-01,  1.33574202e+00,  9.71551312e-02,\n",
       "        7.06984445e-01,  5.80502171e-01,  2.16056038e+00,  1.01165865e+00,\n",
       "        6.02547918e-01,  1.27172951e+00,  1.55765524e+00,  6.67729661e-01,\n",
       "        1.56001676e+00,  2.45551959e-01,  1.52366243e+00,  2.83255820e-01,\n",
       "        1.79307987e+00,  5.97658432e-01,  1.39871910e+00,  4.87541796e-01,\n",
       "       -2.37564193e-01,  8.64421405e-01,  4.54821987e-01, -1.12973169e-01,\n",
       "        7.11209230e-01,  2.09461986e-01,  1.89297751e+00,  4.41503837e-01,\n",
       "        1.74899273e-01,  5.96277474e-01,  2.39761961e+00,  3.51107712e-01,\n",
       "        6.78963818e-01,  7.19388862e-01,  1.00286314e+00, -9.61733165e-02,\n",
       "        2.69817096e-01,  2.92943326e-01,  1.21166975e+00,  6.96289321e-01,\n",
       "        1.79837479e+00,  1.28467104e+00,  1.11699453e-01,  7.71435070e-01,\n",
       "        1.00698151e+00,  1.09049826e+00,  5.91541457e-01,  2.40487173e-01,\n",
       "        1.44460976e+00,  7.84726195e-01,  5.84064353e-01,  1.18682645e+00,\n",
       "        1.54198943e+00,  1.26331907e+00,  9.57972636e-01,  9.15164027e-01,\n",
       "        3.06143937e-01,  7.58917237e-01,  1.38044569e+00, -1.68365692e-01,\n",
       "        8.45207057e-02,  2.83326327e-01,  1.09863814e+00,  6.60856473e-01,\n",
       "        6.28884183e-01,  6.29617690e-01,  8.13075899e-01,  6.63549417e-01,\n",
       "        5.63885173e-02,  2.32888619e-01,  4.98026492e-01,  5.35868864e-01,\n",
       "        3.30624008e-01, -2.76255000e-01,  6.16937438e-01,  6.66122512e-03,\n",
       "        2.34511280e+00,  1.32054940e+00, -2.30583809e-01,  1.16979845e+00,\n",
       "        5.08746396e-01,  8.54233326e-01,  9.75229053e-02,  2.06665648e-01,\n",
       "        1.03224729e+00,  7.04722508e-01,  4.46867741e-01,  1.28520020e+00,\n",
       "        1.52106100e+00,  3.44853866e-01,  1.09082311e+00,  3.30602846e-01,\n",
       "        8.60155078e-01,  4.56166891e-01,  3.19663476e-01,  7.84208412e-01,\n",
       "        4.46038649e-01,  1.52771066e+00,  4.81226216e-01,  5.25175543e-01,\n",
       "        4.02526486e-01,  2.45016736e-01, -3.00731768e-01,  1.04596470e+00,\n",
       "        3.25424443e-01,  2.15151357e+00,  1.61763057e+00,  1.02647248e+00,\n",
       "        1.58409269e+00,  3.78062813e-01,  1.36629366e+00,  3.42364622e-02,\n",
       "        2.35822967e+00,  2.17209151e-01,  1.22650486e+00,  1.14746692e+00,\n",
       "        1.74743607e+00,  2.45512029e+00,  8.59974401e-01,  9.73884192e-01,\n",
       "        2.53196235e-01,  7.61220099e-01,  2.11262458e-01,  6.01379977e-01,\n",
       "        1.28459770e+00,  5.21200074e-01,  8.48571158e-01,  4.30650777e-01,\n",
       "       -2.61655611e-01,  1.20360203e+00,  4.40806477e-01,  1.05105177e+00,\n",
       "        8.65822840e-02,  1.88869494e+00,  7.86743093e-01,  9.83849425e-02,\n",
       "        1.32648821e+00,  1.30731103e-01,  1.30041049e+00,  1.17613203e+00,\n",
       "        1.63270114e+00,  8.98583631e-01,  8.84820395e-01,  4.71078499e-01,\n",
       "        2.01066323e+00,  7.29783324e-01,  1.05179900e+00,  1.17921026e+00,\n",
       "        1.32238398e+00,  9.47420838e-01,  1.36896215e+00,  1.09579999e+00,\n",
       "        5.78585209e-01,  8.92607124e-01,  1.06124582e+00, -2.57681856e-01,\n",
       "       -2.50724093e-02,  9.19987688e-01,  5.02880534e-01,  9.24728181e-01,\n",
       "        1.07815673e+00,  3.50065715e-01,  4.11964354e-01,  7.95478875e-01,\n",
       "        2.31579498e-01,  9.97160755e-02,  3.74112363e-01,  2.23769639e-01,\n",
       "        7.20651883e-01,  2.59208755e-01,  4.67585039e-01,  2.20985192e-01,\n",
       "        7.52672222e-01,  4.12232717e-02,  5.48523818e-01,  5.25015683e-01,\n",
       "        2.13226288e-01,  6.49837392e-01, -4.62175893e-01,  6.81859916e-01,\n",
       "        6.19751144e-01,  4.16108282e-01,  7.69143731e-01,  8.97610003e-01,\n",
       "        7.34815676e-01,  1.25124270e+00,  1.32770822e-01,  8.93688434e-02,\n",
       "        2.42887094e-01,  6.91941179e-01, -2.43913531e-01, -1.81963382e-01,\n",
       "        5.62012058e-01,  1.82542678e+00,  8.96693633e-01,  1.24414508e+00,\n",
       "        1.03469667e+00,  3.65686270e-01,  9.82650093e-01,  2.09212362e+00,\n",
       "        6.18115715e-01,  5.49497597e-01,  1.30303340e+00,  3.60945793e-01,\n",
       "        2.99870129e-01,  5.70535852e-01,  9.51044638e-01,  2.02010994e+00,\n",
       "        1.50955384e+00,  1.74020743e-01,  7.46439433e-02,  1.14800426e+00,\n",
       "        3.05881190e-01,  1.84696802e+00,  3.74694258e-01,  3.58782710e-01,\n",
       "        4.89372214e-01,  8.11617106e-01,  3.06142250e-01,  6.56089420e-01,\n",
       "        8.18437603e-01,  2.08220593e-01,  1.54581810e-01,  9.41682200e-01,\n",
       "        1.59348337e+00, -3.05693711e-02,  1.89823709e+00,  6.71498888e-01,\n",
       "        1.16210121e+00,  7.54917150e-01,  8.29594752e-01,  9.29265336e-01,\n",
       "        2.93023815e-01,  1.16098906e+00,  1.26139842e+00,  9.19041266e-01,\n",
       "        9.72300810e-01,  5.13519980e-01,  3.71095596e-01,  1.09919836e+00,\n",
       "        4.04091876e-01,  1.04307444e+00,  7.21061028e-01,  3.56838283e-01,\n",
       "        1.15534973e+00, -9.37039413e-02,  3.30708360e-01,  3.28375076e-01,\n",
       "        2.64294527e-01,  7.06552809e-01,  4.56758085e-01,  4.12753169e-01,\n",
       "        1.43646362e+00,  1.85359826e+00,  2.15414068e-01,  1.65797920e+00,\n",
       "        8.20677134e-01,  5.35353439e-01, -3.76994785e-01,  1.87531336e+00,\n",
       "        8.04163349e-01,  2.71250817e-01,  7.11621336e-01,  2.17181131e-01,\n",
       "        1.64666001e+00,  9.12611528e-01,  3.38256601e-01,  1.15123002e+00,\n",
       "        1.05929838e+00,  2.00603170e+00,  6.75696863e-01,  8.46234296e-03,\n",
       "        2.60142356e-01,  2.42170292e+00,  2.06553914e-01,  1.95077036e-01,\n",
       "        2.96715915e-01,  2.75381689e+00,  4.62286809e-01,  1.56464139e+00,\n",
       "        9.10790125e-01,  4.32370755e-01, -3.17620466e-01,  1.72681804e+00,\n",
       "        3.86576103e-01,  1.68222675e-01,  2.57425484e-01,  6.10697538e-01,\n",
       "        1.68814961e-01, -2.83915288e-02,  5.69173274e-01,  6.98478661e-01,\n",
       "       -1.82729534e-02,  1.14031208e+00,  1.30307563e-01,  1.87021847e-01,\n",
       "        6.06286896e-01,  1.47927126e+00,  7.83146413e-01,  1.11791486e+00,\n",
       "        1.18819086e+00,  1.99229434e-01,  6.88847502e-01,  1.34708797e+00,\n",
       "        4.63009143e-01,  8.24168920e-01,  5.54782161e-01,  4.26754712e-01,\n",
       "        1.96409437e+00,  2.47241284e-01,  7.38916362e-01,  1.03138404e+00,\n",
       "        1.41163220e-01,  4.36032544e-01,  2.34737385e+00,  2.22543479e+00,\n",
       "        8.89128478e-01,  8.92867892e-02,  7.29577563e-02,  6.26337690e-01,\n",
       "        6.33987724e-01,  1.35250787e+00,  1.22591870e+00,  7.47219891e-01,\n",
       "        2.34413944e-01,  4.21686284e-01,  2.09249936e-01,  1.11664963e+00,\n",
       "        1.46178498e+00,  1.21486908e+00,  1.49977594e+00,  1.64858156e+00,\n",
       "       -1.30538170e-01,  2.97835433e-01,  1.36601431e+00,  1.17388925e+00,\n",
       "       -6.07676447e-02, -4.04739509e-03,  1.24416836e+00,  2.57873343e-01,\n",
       "        1.05229674e+00,  7.66842893e-01,  1.23317126e+00,  1.25715793e+00,\n",
       "        8.38221195e-01,  6.21865583e-01,  2.85137293e-01,  8.63164350e-01,\n",
       "        1.14731694e+00,  5.42262284e-02,  5.75213406e-01,  8.03305581e-01,\n",
       "        5.75664549e-01,  5.74316526e-01, -5.31434974e-02, -4.66159714e-03,\n",
       "        7.69828377e-01,  6.25933869e-01,  5.30009693e-01, -4.17598645e-02,\n",
       "        1.99209787e-01,  1.25179952e+00,  1.65970714e-01,  1.23501908e+00,\n",
       "        3.09427799e-01,  1.03448608e+00,  8.30825290e-02,  1.06127317e+00,\n",
       "        7.88836333e-01,  1.10142732e+00, -6.86948008e-02, -1.10968174e-01,\n",
       "        1.06524582e+00,  1.85748466e-01,  7.02151528e-01,  8.09496119e-01,\n",
       "        6.01762528e-01,  7.25449808e-01,  5.26574167e-01,  3.96091708e-01,\n",
       "        7.36900565e-01,  1.40805219e+00,  1.01964408e+00,  5.51876921e-01,\n",
       "        1.10631861e+00,  2.11828505e+00,  3.22546250e-01,  1.46093685e+00,\n",
       "        4.04475830e-01,  2.79644979e-01,  1.15734694e+00,  9.59576598e-01,\n",
       "        4.05872838e-01,  6.19686448e-01,  4.85916552e-01,  1.90826668e+00,\n",
       "        1.50736104e+00,  8.72334070e-02,  5.04604751e-01,  1.22910128e+00,\n",
       "       -1.02635033e-01,  6.22154042e-01,  1.10828295e+00,  1.21723776e+00,\n",
       "        8.94100223e-01,  8.17644160e-01, -3.17320656e-01, -8.28484137e-02,\n",
       "        5.04280584e-01,  6.41738839e-01,  6.19861700e-02,  3.83433828e-01,\n",
       "        3.15334534e-01,  1.05912301e-01,  1.53348342e-01,  3.52028145e-01,\n",
       "        1.57361155e-01,  1.26430536e+00,  5.88945388e-01,  6.88645909e-01,\n",
       "        1.14865175e+00,  2.92596885e-01, -3.61393386e-02,  1.12814482e+00,\n",
       "        1.44737288e+00, -6.43600470e-02,  1.47296011e+00,  1.22605856e-01,\n",
       "       -2.77582333e-01,  1.96820936e-01,  2.42658703e-01,  9.86132327e-01,\n",
       "        7.16523898e-01, -5.77059173e-03,  1.68624147e-01,  4.78105933e-01,\n",
       "        3.89567285e-01,  3.65877214e-01,  1.50055156e+00,  8.79275058e-01,\n",
       "        7.39082749e-01,  1.82462226e+00,  2.35073501e-01,  7.00524242e-01,\n",
       "        2.51507842e+00,  7.96957683e-01,  3.66148260e-01,  4.42853627e-01,\n",
       "        6.86131388e-01,  3.04834903e-01,  6.57738281e-01,  1.25576793e+00,\n",
       "        5.65257473e-01,  1.46238408e+00,  1.73017131e+00,  3.40365156e-01,\n",
       "        1.86841052e-01,  8.66556902e-01,  1.56110343e+00,  1.04663519e-01,\n",
       "        2.16945824e+00,  5.78793481e-01,  1.51419743e+00,  8.63582706e-01,\n",
       "        3.26864996e-01,  7.08991945e-01,  4.24529940e-01,  6.78301072e-01,\n",
       "        1.57230706e+00,  1.53408443e+00, -1.97569350e-01,  4.24210073e-01,\n",
       "        1.60599002e+00,  1.79753361e+00,  4.38695789e-01,  9.40255027e-01,\n",
       "        1.16642088e+00,  6.02938285e-01,  2.09608760e+00,  1.11067328e+00,\n",
       "        1.15149395e+00, -2.35570594e-01,  1.37965178e+00,  7.60864059e-01,\n",
       "        6.14121262e-01, -2.53588115e-01,  2.38298315e-01,  4.08049192e-01,\n",
       "       -1.76688398e-02,  6.80914710e-01,  1.08905778e+00,  1.63203733e-01,\n",
       "        1.77552348e+00,  2.13102777e+00,  6.73117243e-02,  7.36703865e-02,\n",
       "        1.77109799e+00,  2.40282275e-01,  2.60897039e+00,  8.09593345e-01,\n",
       "        4.21346898e-01,  4.89161962e-01,  4.06821122e-01,  7.41153101e-01,\n",
       "        8.55242938e-01, -4.48449392e-02,  3.74058678e-01,  1.57797199e-01,\n",
       "        1.31169858e+00,  9.35898816e-01,  8.57737019e-01,  1.29412345e+00,\n",
       "        7.50055956e-01,  5.20641027e-01,  1.52596292e+00,  6.11246259e-02,\n",
       "        5.23053345e-01, -5.66129975e-03,  1.29919742e+00,  1.01284601e+00,\n",
       "        4.34905396e-01,  9.22789016e-01,  2.47946312e+00,  5.67742232e-01,\n",
       "       -1.45646708e-01,  2.68359707e-01,  1.95060866e+00,  7.51210248e-01,\n",
       "        1.36787593e+00,  1.43020575e-01,  3.21685607e-01,  7.75983579e-01,\n",
       "        1.28968965e+00,  3.59950418e-01,  8.03151460e-01,  8.11648211e-01,\n",
       "        5.93242799e-01,  1.02398742e+00,  1.82539835e-01,  5.94518890e-01,\n",
       "       -2.13897442e-02,  4.36586652e-01,  5.10547841e-01,  1.00878435e+00,\n",
       "        8.10076977e-01,  8.59324573e-01,  3.88726899e-01,  9.64980333e-01,\n",
       "        1.50786676e+00,  7.43475194e-01,  2.78650599e+00, -6.53713218e-02,\n",
       "        1.02883654e+00,  7.94292951e-01,  4.78794695e-01,  1.47394271e-01,\n",
       "        7.01693610e-01, -1.56630479e-01,  7.52771233e-01,  4.59671528e-01,\n",
       "        9.89469238e-01,  4.62215577e-01,  5.48356102e-01,  9.34726965e-01,\n",
       "       -9.02113995e-02,  1.67870513e+00,  1.24493526e+00,  1.72329257e+00,\n",
       "        9.94124614e-01,  2.18005264e-01,  2.07715037e-01,  1.11531334e+00,\n",
       "        2.96652642e-01,  8.69008934e-01, -9.36207359e-02,  1.40453111e+00,\n",
       "        6.09776405e-01,  3.79221252e-01,  6.36644259e-01,  9.98716501e-01,\n",
       "        2.03798925e-01,  3.26251993e-01,  9.16139125e-01,  6.45223078e-01,\n",
       "        1.49070383e+00,  1.08496874e+00,  4.42716075e-01, -3.63389292e-02,\n",
       "        5.74708845e-01,  1.33967632e+00,  1.00796990e-01,  5.55075694e-01,\n",
       "        3.05221528e-01,  5.72479003e-01,  5.20880757e-01,  2.20505110e+00,\n",
       "        7.13372947e-01,  8.57614551e-01,  1.13288730e-01,  1.38531444e+00,\n",
       "        2.20213178e+00,  2.42784800e+00,  1.01146749e+00,  4.56472054e-03,\n",
       "        2.19576291e-01,  4.92802979e-01,  3.46522104e-01,  2.94448332e-01,\n",
       "       -2.10010895e-01,  1.26113422e+00,  8.47345683e-01,  2.16012869e+00,\n",
       "        6.16078949e-01,  6.59437491e-01,  6.77480088e-01,  3.30577052e-01,\n",
       "        5.29612293e-01,  7.35940798e-01, -1.66201868e-01,  6.54023318e-01,\n",
       "        1.05587859e+00,  1.80456963e+00,  1.65058064e+00,  2.43942133e+00,\n",
       "        1.41577706e+00,  1.00676387e+00,  2.59295074e+00,  2.27017500e-01,\n",
       "       -7.23912799e-02,  2.28083205e+00,  1.04919477e+00,  3.00656404e-01,\n",
       "        3.67661822e-01,  1.01302662e+00,  6.08555213e-01,  2.60533756e-01,\n",
       "        6.44733940e-01,  3.69410179e-01,  1.48542220e+00,  9.48192791e-01,\n",
       "        4.91447955e-01,  7.35104836e-01,  3.18916652e-01,  1.37253468e+00,\n",
       "        6.28720008e-01,  9.16514293e-01,  1.29184984e+00,  4.16604206e-01,\n",
       "        9.44858131e-01, -8.76065254e-02,  4.30499803e-01,  4.06599526e-01,\n",
       "        7.82645125e-01,  4.08619187e-01,  9.76295971e-01,  9.58294390e-01,\n",
       "        1.31992342e+00,  1.21751016e+00,  3.92476939e-01,  3.06551018e-01,\n",
       "        6.12872092e-01,  6.20175342e-01,  1.18651959e-01,  5.13237522e-01,\n",
       "        1.00419162e+00,  2.58392307e-01,  1.08879476e-01,  1.37079037e+00,\n",
       "        1.40924447e+00,  7.99883570e-01,  3.73952263e-01,  1.34617710e+00])"
      ]
     },
     "execution_count": 87,
     "metadata": {},
     "output_type": "execute_result"
    }
   ],
   "source": [
    "# Criando dados em uma distribuição não normal\n",
    "dados2 = skewnorm.rvs(4, size=1000)\n",
    "dados2"
   ]
  },
  {
   "cell_type": "code",
   "execution_count": 88,
   "id": "1e32faf1",
   "metadata": {},
   "outputs": [
    {
     "data": {
      "image/png": "[encoded data removed]",
      "text/plain": [
       "<Figure size 640x480 with 1 Axes>"
      ]
     },
     "metadata": {},
     "output_type": "display_data"
    }
   ],
   "source": [
    "sns.histplot(dados2, kde=True)\n",
    "plt.xlabel('Valores')\n",
    "plt.ylabel('Frequência')\n",
    "plt.title('Distribuição Não Normal dos Dados')\n",
    "plt.show()"
   ]
  },
  {
   "cell_type": "code",
   "execution_count": 89,
   "id": "a61ac418",
   "metadata": {},
   "outputs": [
    {
     "data": {
      "image/png": "[encoded data removed]",
      "text/plain": [
       "<Figure size 640x480 with 1 Axes>"
      ]
     },
     "metadata": {},
     "output_type": "display_data"
    }
   ],
   "source": [
    "fig, ax = plt.subplots()\n",
    "stats.probplot(dados2, fit=True, plot=ax)\n",
    "plt.show()"
   ]
  },
  {
   "cell_type": "code",
   "execution_count": 90,
   "id": "06db1d77",
   "metadata": {},
   "outputs": [
    {
     "data": {
      "text/plain": [
       "ShapiroResult(statistic=np.float64(0.9645989365672661), pvalue=np.float64(7.28461461583311e-15))"
      ]
     },
     "execution_count": 90,
     "metadata": {},
     "output_type": "execute_result"
    }
   ],
   "source": [
    "stats.shapiro(dados2)"
   ]
  },
  {
   "cell_type": "code",
   "execution_count": null,
   "id": "14072c13",
   "metadata": {},
   "outputs": [],
   "source": []
  }
 ],
 "metadata": {
  "kernelspec": {
   "display_name": "venv (3.13.7)",
   "language": "python",
   "name": "python3"
  },
  "language_info": {
   "codemirror_mode": {
    "name": "ipython",
    "version": 3
   },
   "file_extension": ".py",
   "mimetype": "text/x-python",
   "name": "python",
   "nbconvert_exporter": "python",
   "pygments_lexer": "ipython3",
   "version": "3.13.7"
  }
 },
 "nbformat": 4,
 "nbformat_minor": 5
}
